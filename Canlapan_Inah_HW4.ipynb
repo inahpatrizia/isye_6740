{
 "cells": [
  {
   "cell_type": "markdown",
   "id": "4c38567e",
   "metadata": {},
   "source": [
    "# HW 4"
   ]
  },
  {
   "cell_type": "markdown",
   "id": "7d5b7969",
   "metadata": {},
   "source": [
    "## 2. Comparing Classifiers\n",
    "\n",
    "### 2.1 Divorce Classification "
   ]
  },
  {
   "cell_type": "code",
   "execution_count": 1,
   "id": "040482de",
   "metadata": {},
   "outputs": [],
   "source": [
    "import numpy as np\n",
    "import pandas as pd\n",
    "import matplotlib.pyplot as plt\n",
    "from sklearn.model_selection import train_test_split\n",
    "from sklearn.neighbors import KNeighborsClassifier \n",
    "from sklearn.linear_model import LogisticRegression\n",
    "from sklearn.naive_bayes import GaussianNB\n",
    "from sklearn.decomposition import PCA\n",
    "from mlxtend.plotting import plot_decision_regions\n",
    "from sklearn.model_selection import GridSearchCV"
   ]
  },
  {
   "cell_type": "code",
   "execution_count": 2,
   "id": "ef093ea5",
   "metadata": {},
   "outputs": [],
   "source": [
    "data = pd.read_csv('data/marriage.csv', header = None)\n",
    "data.rename(columns = {54: 'y'}, inplace = True)\n",
    "\n",
    "# Split test/train data\n",
    "X = data.iloc[:,0:54]\n",
    "y = data.iloc[:,54:55]\n",
    "X_train, X_test, y_train, y_test = train_test_split(X, y, test_size=0.2, random_state=4264)\n",
    "\n",
    "X_train = np.array(X_train)\n",
    "X_test = np.array(X_test)\n",
    "y_train = np.array(y_train).reshape(len(y_train)).astype(int)\n",
    "y_test = np.array(y_test).reshape(len(y_test)).astype(int)"
   ]
  },
  {
   "cell_type": "markdown",
   "id": "15a69278",
   "metadata": {},
   "source": [
    "### Part A\n",
    "Report testing accuracy for each of the three classifiers. Comment on their performance: which performs the best and make a guess why they perform the best in this setting.  "
   ]
  },
  {
   "cell_type": "code",
   "execution_count": 3,
   "id": "e0a95a95",
   "metadata": {},
   "outputs": [
    {
     "name": "stdout",
     "output_type": "stream",
     "text": [
      "Training Accuracy: 1.0\n",
      "Test Accuracy: 0.9411764705882353\n"
     ]
    }
   ],
   "source": [
    "# Logistic Regression - from heart.py\n",
    "lr_model = LogisticRegression(max_iter=200, solver='liblinear')\n",
    "lr_model.fit(X_train, y_train)\n",
    "lr_score_train = lr_model.score(X_train, y_train)\n",
    "lr_score_test = lr_model.score(X_test, y_test)\n",
    "\n",
    "print('Training Accuracy: ' + str(lr_score_train))\n",
    "print('Test Accuracy: ' + str(lr_score_test))"
   ]
  },
  {
   "cell_type": "code",
   "execution_count": 4,
   "id": "1e60f1f9",
   "metadata": {},
   "outputs": [
    {
     "name": "stdout",
     "output_type": "stream",
     "text": [
      "Training Accuracy: 0.9779411764705882\n",
      "Test Accuracy: 0.9705882352941176\n"
     ]
    }
   ],
   "source": [
    "# KNN - from plot_classifier_comparison.py\n",
    "knn = KNeighborsClassifier(n_neighbors=5)\n",
    "knn.fit(X_train, y_train)\n",
    "knn_score_train = knn.score(X_train, y_train)\n",
    "knn_score_test = knn.score(X_test, y_test)\n",
    "\n",
    "print('Training Accuracy: ' + str(knn_score_train))\n",
    "print('Test Accuracy: ' + str(knn_score_test))"
   ]
  },
  {
   "cell_type": "code",
   "execution_count": 5,
   "id": "5050ab49",
   "metadata": {},
   "outputs": [
    {
     "name": "stdout",
     "output_type": "stream",
     "text": [
      "Training Accuracy: 0.9779411764705882\n",
      "Test Accuracy: 0.9705882352941176\n"
     ]
    }
   ],
   "source": [
    "# Naive Bayes - from plot_classifier_comparison.py\n",
    "naive_bayes = GaussianNB(var_smoothing=0.001)\n",
    "naive_bayes.fit(X_train, y_train)\n",
    "nb_score_train = naive_bayes.score(X_train, y_train)\n",
    "nb_score_test = naive_bayes.score(X_test, y_test)\n",
    "print('Training Accuracy: ' + str(nb_score_train))\n",
    "print('Test Accuracy: ' + str(nb_score_test))"
   ]
  },
  {
   "cell_type": "markdown",
   "id": "e35033da",
   "metadata": {},
   "source": [
    "### Part B\n",
    "Now perform PCA to project the data into two-dimensional space. Build the classifiers (Naive Bayes, Logistic Regression, and KNN) using the two-dimensional PCA results. Plot the data points and decision boundary of each classifier in the two-dimensional space. Comment on the difference between the decision boundary for the three classifiers. Please clearly represent the data points with different labels using different colors."
   ]
  },
  {
   "cell_type": "code",
   "execution_count": 6,
   "id": "4274eeaa",
   "metadata": {},
   "outputs": [],
   "source": [
    "# Use PCA package to perform PCA\n",
    "pca = PCA(n_components=2)\n",
    "data_redux = pca.fit_transform(X)\n",
    "\n",
    "# Split into test/train sets \n",
    "X_train, X_test, y_train, y_test = train_test_split(data_redux, y, test_size=0.2, random_state=4264)\n",
    "\n",
    "X_train = np.array(X_train)\n",
    "X_test = np.array(X_test)\n",
    "y_train = np.array(y_train).reshape(len(y_train)).astype(int)\n",
    "y_test = np.array(y_test).reshape(len(y_test)).astype(int)"
   ]
  },
  {
   "cell_type": "code",
   "execution_count": 7,
   "id": "2fce14f7",
   "metadata": {},
   "outputs": [
    {
     "name": "stdout",
     "output_type": "stream",
     "text": [
      "Training Accuracy: 0.9779411764705882\n",
      "Test Accuracy: 0.9705882352941176\n"
     ]
    }
   ],
   "source": [
    "# Logistic Regression - from heart.py\n",
    "lr_model = LogisticRegression(max_iter=200, solver='liblinear')\n",
    "lr_model.fit(X_train, y_train)\n",
    "lr_score_train = lr_model.score(X_train, y_train)\n",
    "lr_score_test = lr_model.score(X_test, y_test)\n",
    "\n",
    "print('Training Accuracy: ' + str(lr_score_train))\n",
    "print('Test Accuracy: ' + str(lr_score_test))"
   ]
  },
  {
   "cell_type": "code",
   "execution_count": 8,
   "id": "54c535e3",
   "metadata": {},
   "outputs": [
    {
     "name": "stdout",
     "output_type": "stream",
     "text": [
      "Training Accuracy: 0.9852941176470589\n",
      "Test Accuracy: 0.9705882352941176\n"
     ]
    }
   ],
   "source": [
    "# KNN - from plot_classifier_comparison.py\n",
    "knn = KNeighborsClassifier(n_neighbors=5)\n",
    "knn.fit(X_train, y_train)\n",
    "knn_score_train = knn.score(X_train, y_train)\n",
    "knn_score_test = knn.score(X_test, y_test)\n",
    "\n",
    "print('Training Accuracy: ' + str(knn_score_train))\n",
    "print('Test Accuracy: ' + str(knn_score_test))"
   ]
  },
  {
   "cell_type": "code",
   "execution_count": 9,
   "id": "38ef7b60",
   "metadata": {},
   "outputs": [
    {
     "name": "stdout",
     "output_type": "stream",
     "text": [
      "Training Accuracy: 0.9779411764705882\n",
      "Test Accuracy: 0.9705882352941176\n"
     ]
    }
   ],
   "source": [
    "# Naive Bayes - from plot_classifier_comparison.py\n",
    "naive_bayes = GaussianNB()\n",
    "naive_bayes.fit(X_train, y_train)\n",
    "nb_score_train = naive_bayes.score(X_train, y_train)\n",
    "nb_score_test = naive_bayes.score(X_test, y_test)\n",
    "\n",
    "print('Training Accuracy: ' + str(nb_score_train))\n",
    "print('Test Accuracy: ' + str(nb_score_test))"
   ]
  },
  {
   "cell_type": "code",
   "execution_count": 10,
   "id": "52bab359",
   "metadata": {
    "scrolled": true
   },
   "outputs": [
    {
     "data": {
      "text/plain": [
       "Text(0.5, 1.0, 'Naive Bayes')"
      ]
     },
     "execution_count": 10,
     "metadata": {},
     "output_type": "execute_result"
    },
    {
     "data": {
      "image/png": "[encoded data removed]",
      "text/plain": [
       "<Figure size 720x216 with 3 Axes>"
      ]
     },
     "metadata": {
      "needs_background": "light"
     },
     "output_type": "display_data"
    }
   ],
   "source": [
    "# http://rasbt.github.io/mlxtend/user_guide/plotting/plot_decision_regions/\n",
    "import matplotlib.gridspec as gridspec\n",
    "gs = gridspec.GridSpec(1, 3)\n",
    "fig = plt.figure(figsize=(10,3))\n",
    "\n",
    "ax = plt.subplot(gs[0, 0])\n",
    "fig = plot_decision_regions(X_test, y_test,  clf=lr_model, legend=2)\n",
    "plt.title('Logistic Regression')\n",
    "\n",
    "ax = plt.subplot(gs[0, 1])\n",
    "fig = plot_decision_regions(X_test, y_test,  clf=knn, legend=2)\n",
    "plt.title('KNN, k=5')\n",
    "\n",
    "ax = plt.subplot(gs[0, 2])\n",
    "fig = plot_decision_regions(X_test, y_test,  clf=naive_bayes, legend=2)\n",
    "plt.title('Naive Bayes')"
   ]
  },
  {
   "cell_type": "markdown",
   "id": "baf9b80f",
   "metadata": {},
   "source": [
    "### 2.2 Handwriteen Digits Classification\n",
    "\n",
    "(b) Comment on the performance of the classifier and give your explanation why some of them perform better than the others.\n",
    "\n"
   ]
  },
  {
   "cell_type": "code",
   "execution_count": 11,
   "id": "3b3f7a75",
   "metadata": {},
   "outputs": [],
   "source": [
    "import scipy.io as spio\n",
    "import random\n",
    "from sklearn.svm import SVC\n",
    "from sklearn.neural_network import MLPClassifier\n",
    "from sklearn.metrics import classification_report\n",
    "from sklearn.metrics import confusion_matrix\n",
    "from sklearn.metrics import accuracy_score"
   ]
  },
  {
   "cell_type": "code",
   "execution_count": 12,
   "id": "05d22b38",
   "metadata": {},
   "outputs": [],
   "source": [
    "# Import Data\n",
    "mnist = spio.loadmat('data/mnist_10digits.mat',squeeze_me=True)\n",
    "\n",
    "X_train = mnist['xtrain'] # each row is an image\n",
    "X_test = mnist['xtest']\n",
    "y_train = mnist['ytrain'].ravel()\n",
    "y_test = mnist['ytest'].ravel()\n",
    "\n",
    "# Standardize X_train and X_test\n",
    "X_train = X_train/255\n",
    "X_test = X_test/255\n",
    "\n",
    "# Downsample\n",
    "seed = 4624\n",
    "index = random.sample(range(60000), 5000)\n",
    "\n",
    "X_train_down = X_train[index]\n",
    "y_train_down = y_train[index].ravel()"
   ]
  },
  {
   "cell_type": "markdown",
   "id": "7e6c0ec1",
   "metadata": {},
   "source": [
    "### Part A\n",
    "Report confusion matrix, precision, recall, and F-1 score for each of the classifiers. For precision, recall, and F-1 score of each classifier, we will need to report these for each of the digits. So you can create a table for this. For this question, each of the 5 classifier, KNN, logistic regression, SVM, kernel SVM, and neural networks, accounts for 10 points."
   ]
  },
  {
   "cell_type": "code",
   "execution_count": 14,
   "id": "a83d5690",
   "metadata": {},
   "outputs": [
    {
     "name": "stdout",
     "output_type": "stream",
     "text": [
      "Best n_neighbors: 1\n"
     ]
    }
   ],
   "source": [
    "# Tune KNN using GridSearchCV \n",
    "# https://medium.datadriveninvestor.com/k-nearest-neighbors-in-python-hyperparameters-tuning-716734bc557f\n",
    "\n",
    "n_neighbors = list(range(1,30))\n",
    "\n",
    "#Convert to dictionary\n",
    "hyperparameters = dict(n_neighbors=n_neighbors)\n",
    "\n",
    "#Create new KNN object\n",
    "knn_2 = KNeighborsClassifier()\n",
    "\n",
    "#Use GridSearch\n",
    "clf = GridSearchCV(knn_2, hyperparameters, cv=10)\n",
    "\n",
    "#Fit the model\n",
    "best_model = clf.fit(X_train_down,y_train_down)\n",
    "\n",
    "#Print The value of best Hyperparameters\n",
    "print('Best n_neighbors:', best_model.best_estimator_.get_params()['n_neighbors'])\n",
    "\n",
    "# Current results = 1; previous results = 3"
   ]
  },
  {
   "cell_type": "code",
   "execution_count": 18,
   "id": "004c28f4",
   "metadata": {
    "scrolled": false
   },
   "outputs": [
    {
     "name": "stdout",
     "output_type": "stream",
     "text": [
      "KNN, k=3\n",
      "Training Accuracy: 0.9363833333333333\n",
      "Test Accuracy: 0.9366\n",
      "              precision    recall  f1-score   support\n",
      "\n",
      "           0       0.95      0.99      0.97       980\n",
      "           1       0.90      1.00      0.94      1135\n",
      "           2       0.97      0.91      0.94      1032\n",
      "           3       0.92      0.93      0.92      1010\n",
      "           4       0.95      0.91      0.93       982\n",
      "           5       0.93      0.91      0.92       892\n",
      "           6       0.96      0.97      0.97       958\n",
      "           7       0.94      0.94      0.94      1028\n",
      "           8       0.97      0.87      0.92       974\n",
      "           9       0.91      0.93      0.92      1009\n",
      "\n",
      "    accuracy                           0.94     10000\n",
      "   macro avg       0.94      0.94      0.94     10000\n",
      "weighted avg       0.94      0.94      0.94     10000\n",
      "\n",
      "[[ 966    1    1    0    0    3    7    1    1    0]\n",
      " [   0 1130    1    1    1    1    1    0    0    0]\n",
      " [  16   32  937    9    5    1    3   21    8    0]\n",
      " [   3   11   10  936    1   26    0   10    8    5]\n",
      " [   1   22    0    0  896    0    9    1    2   51]\n",
      " [   6    8    1   33    3  815   11    3    3    9]\n",
      " [   8    5    0    1    6    5  933    0    0    0]\n",
      " [   0   35    5    1    4    0    0  964    0   19]\n",
      " [  15    9    9   27   11   28    2   12  847   14]\n",
      " [   6    8    2   10   20    0    2   19    0  942]]\n",
      "Logistic Regression\n",
      "Training Accuracy: 0.9392666666666667\n",
      "Test Accuracy: 0.9256\n",
      "              precision    recall  f1-score   support\n",
      "\n",
      "           0       0.95      0.97      0.96       980\n",
      "           1       0.96      0.98      0.97      1135\n",
      "           2       0.93      0.90      0.91      1032\n",
      "           3       0.90      0.92      0.91      1010\n",
      "           4       0.94      0.94      0.94       982\n",
      "           5       0.90      0.87      0.88       892\n",
      "           6       0.94      0.95      0.95       958\n",
      "           7       0.93      0.92      0.93      1028\n",
      "           8       0.88      0.88      0.88       974\n",
      "           9       0.91      0.92      0.91      1009\n",
      "\n",
      "    accuracy                           0.93     10000\n",
      "   macro avg       0.92      0.92      0.92     10000\n",
      "weighted avg       0.93      0.93      0.93     10000\n",
      "\n",
      "[[ 955    0    2    4    1   10    4    3    1    0]\n",
      " [   0 1110    5    2    0    2    3    2   11    0]\n",
      " [   6    9  930   14   10    3   12   10   34    4]\n",
      " [   4    1   16  925    1   23    2   10   19    9]\n",
      " [   1    3    7    3  921    0    6    5    6   30]\n",
      " [   9    2    3   35   10  777   15    6   31    4]\n",
      " [   8    3    8    2    6   16  912    2    1    0]\n",
      " [   1    7   23    7    6    1    0  947    4   32]\n",
      " [   9   11    6   22    7   29   13   10  855   12]\n",
      " [   9    8    1    9   21    7    0   21    9  924]]\n",
      "SVM\n",
      "Training Accuracy: 0.9142\n",
      "Test Accuracy: 0.9121\n",
      "              precision    recall  f1-score   support\n",
      "\n",
      "           0       0.94      0.98      0.96       980\n",
      "           1       0.95      0.98      0.97      1135\n",
      "           2       0.90      0.90      0.90      1032\n",
      "           3       0.87      0.90      0.89      1010\n",
      "           4       0.89      0.92      0.91       982\n",
      "           5       0.87      0.86      0.87       892\n",
      "           6       0.94      0.95      0.94       958\n",
      "           7       0.91      0.92      0.91      1028\n",
      "           8       0.91      0.84      0.88       974\n",
      "           9       0.91      0.86      0.88      1009\n",
      "\n",
      "    accuracy                           0.91     10000\n",
      "   macro avg       0.91      0.91      0.91     10000\n",
      "weighted avg       0.91      0.91      0.91     10000\n",
      "\n",
      "[[ 959    0    2    2    0   11    5    1    0    0]\n",
      " [   0 1116    4    5    0    4    1    3    2    0]\n",
      " [  14   13  931   17   16    2   15    9   14    1]\n",
      " [   6    3   19  908    2   31    2   11   23    5]\n",
      " [   2    4    8    1  908    1   13    8    1   36]\n",
      " [  12    3    5   58   10  766   11    4   18    5]\n",
      " [   8    4   13    0    9   14  906    0    4    0]\n",
      " [   2   13   23    7    7    1    0  942    3   30]\n",
      " [  10    8   15   29   17   43    9   10  820   13]\n",
      " [   5    9    9   11   46    6    0   45   13  865]]\n",
      "Kernel SVM\n",
      "Training Accuracy: 0.9526\n",
      "Test Accuracy: 0.9545\n",
      "              precision    recall  f1-score   support\n",
      "\n",
      "           0       0.96      0.98      0.97       980\n",
      "           1       0.98      0.99      0.98      1135\n",
      "           2       0.96      0.94      0.95      1032\n",
      "           3       0.94      0.96      0.95      1010\n",
      "           4       0.93      0.96      0.95       982\n",
      "           5       0.95      0.95      0.95       892\n",
      "           6       0.96      0.96      0.96       958\n",
      "           7       0.96      0.94      0.95      1028\n",
      "           8       0.94      0.94      0.94       974\n",
      "           9       0.94      0.92      0.93      1009\n",
      "\n",
      "    accuracy                           0.95     10000\n",
      "   macro avg       0.95      0.95      0.95     10000\n",
      "weighted avg       0.95      0.95      0.95     10000\n",
      "\n",
      "[[ 964    0    2    0    0    8    4    1    1    0]\n",
      " [   0 1123    2    3    0    1    3    0    3    0]\n",
      " [   8    0  970   10    9    0    7    8   20    0]\n",
      " [   0    1    7  968    0   10    1   10   11    2]\n",
      " [   1    0    5    0  941    0    5    3    2   25]\n",
      " [   3    1    3   20    4  843    8    2    5    3]\n",
      " [   9    3    2    0    8   10  924    0    2    0]\n",
      " [   1   12   18    3    7    0    0  962    3   22]\n",
      " [   3    1    3   13    7   16    6    4  918    3]\n",
      " [  10    6    1    9   31    2    0    9    9  932]]\n",
      "Neural Networks\n",
      "Training Accuracy: 0.95985\n",
      "Test Accuracy: 0.9572\n",
      "              precision    recall  f1-score   support\n",
      "\n",
      "           0       0.96      0.98      0.97       980\n",
      "           1       0.98      0.98      0.98      1135\n",
      "           2       0.96      0.95      0.95      1032\n",
      "           3       0.95      0.96      0.96      1010\n",
      "           4       0.95      0.96      0.96       982\n",
      "           5       0.97      0.93      0.95       892\n",
      "           6       0.95      0.96      0.96       958\n",
      "           7       0.97      0.93      0.95      1028\n",
      "           8       0.95      0.96      0.95       974\n",
      "           9       0.94      0.95      0.95      1009\n",
      "\n",
      "    accuracy                           0.96     10000\n",
      "   macro avg       0.96      0.96      0.96     10000\n",
      "weighted avg       0.96      0.96      0.96     10000\n",
      "\n",
      "[[ 963    1    0    0    0    4    6    1    3    2]\n",
      " [   0 1112    3    4    0    0    3    2   11    0]\n",
      " [  12    2  976    7    7    0   11    9    8    0]\n",
      " [   0    0   10  973    0    4    2    8   12    1]\n",
      " [   1    0    3    0  944    0    9    2    2   21]\n",
      " [   8    1    1   20    2  829   12    3    9    7]\n",
      " [   9    3    3    0    7    9  924    0    3    0]\n",
      " [   2    9   19    7    7    0    0  960    0   24]\n",
      " [   5    1    3    5    6    6    9    5  931    3]\n",
      " [   7    6    1   11   16    2    1    4    1  960]]\n"
     ]
    }
   ],
   "source": [
    "# from plot_classifier_comparison.py\n",
    "names = ['KNN, k=3', 'Logistic Regression', 'SVM', 'Kernel SVM', 'Neural Networks']\n",
    "\n",
    "classifiers = [KNeighborsClassifier(3), \n",
    "               LogisticRegression(solver='newton-cg'),\n",
    "               SVC(kernel=\"linear\"),\n",
    "               SVC(kernel='rbf'),\n",
    "               MLPClassifier(alpha=1, hidden_layer_sizes = (20, 10))\n",
    "              ]\n",
    "\n",
    "# Iterate over classifiers\n",
    "for i in range(len(names)):\n",
    "    clf_name = names[i]\n",
    "    clf = classifiers[i]\n",
    "       \n",
    "    print(clf_name)\n",
    "    \n",
    "    # Fit the model\n",
    "    if (clf_name == 'KNN, k=3') | (clf_name == 'SVM') | (clf_name == 'Kernel SVM'):\n",
    "        clf.fit(X_train_down, y_train_down)\n",
    "    else:\n",
    "        clf.fit(X_train, y_train)\n",
    "        \n",
    "    # Predict Test Records \n",
    "    y_pred_train = clf.predict(X_train)\n",
    "    y_pred_test = clf.predict(X_test)\n",
    "    \n",
    "    # Accuracy \n",
    "    acc_train = accuracy_score(y_train, y_pred_train)\n",
    "    acc_test = accuracy_score(y_test, y_pred_test)\n",
    "    print('Training Accuracy: ' + str(acc_train))\n",
    "    print('Test Accuracy: ' + str(acc_test))\n",
    "    \n",
    "    # Scores \n",
    "    # https://scikit-learn.org/stable/modules/generated/sklearn.metrics.classification_report.html\n",
    "    print(classification_report(y_test, y_pred_test))\n",
    "    \n",
    "    # Confusion Matrix\n",
    "    # https://scikit-learn.org/stable/modules/generated/sklearn.metrics.confusion_matrix.html\n",
    "    print(confusion_matrix(y_test, y_pred_test))\n"
   ]
  }
 ],
 "metadata": {
  "kernelspec": {
   "display_name": "Python 3 (ipykernel)",
   "language": "python",
   "name": "python3"
  },
  "language_info": {
   "codemirror_mode": {
    "name": "ipython",
    "version": 3
   },
   "file_extension": ".py",
   "mimetype": "text/x-python",
   "name": "python",
   "nbconvert_exporter": "python",
   "pygments_lexer": "ipython3",
   "version": "3.9.12"
  }
 },
 "nbformat": 4,
 "nbformat_minor": 5
}
