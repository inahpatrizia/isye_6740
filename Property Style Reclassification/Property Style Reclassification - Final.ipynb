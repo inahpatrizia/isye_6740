{
 "cells": [
  {
   "cell_type": "markdown",
   "id": "737626aa",
   "metadata": {},
   "source": [
    "# Property Style Reclassification\n",
    "\n",
    "**1. Organize Data**\n",
    "\n",
    "Training/Validation Data = rps_property_data.csv\n",
    "Test Data = rps_property_data_rlp.csv\n",
    " \n",
    "**2. Train Models**\n",
    "\n",
    "**3. Test on Validation**\n",
    "\n",
    "**4. Test on RLP Data with labels**\n",
    "\n",
    "**5. Test on RLP Data without labels**"
   ]
  },
  {
   "cell_type": "code",
   "execution_count": 1,
   "id": "0b026b9c",
   "metadata": {},
   "outputs": [],
   "source": [
    "import numpy as np\n",
    "import pandas as pd\n",
    "from sklearn.model_selection import train_test_split\n",
    "import matplotlib.pyplot as plt\n",
    "import warnings\n",
    "from datetime import datetime\n",
    "warnings.filterwarnings(\"ignore\")"
   ]
  },
  {
   "cell_type": "markdown",
   "id": "b2d00e22",
   "metadata": {},
   "source": [
    "## Data Cleaning, Conversion and Partitioning"
   ]
  },
  {
   "cell_type": "code",
   "execution_count": 2,
   "id": "84fca9e5",
   "metadata": {},
   "outputs": [
    {
     "data": {
      "text/plain": [
       "(1601086, 16)"
      ]
     },
     "execution_count": 2,
     "metadata": {},
     "output_type": "execute_result"
    }
   ],
   "source": [
    "# Import training data\n",
    "property_data = pd.read_csv('rps_property_data.csv')\n",
    "property_data = property_data.replace({np.nan: None})\n",
    "property_data = property_data.rename(columns = {'Unnamed: 0':'RecordID'})\n",
    "property_data = property_data[(property_data['PROPERTY_STYLE'].notnull()) & \\\n",
    "                              (property_data['PROPERTY_STYLE']!='8_OTHER') & \\\n",
    "                              (property_data['PROVINCE'].notnull()) & \\\n",
    "                              (property_data['LATITUDE'].notnull()) & \\\n",
    "                              (property_data['LONGITUDE'].notnull()) \n",
    "                             ]\n",
    "property_data.shape"
   ]
  },
  {
   "cell_type": "code",
   "execution_count": 3,
   "id": "45fe6bca",
   "metadata": {},
   "outputs": [
    {
     "data": {
      "text/html": [
       "<div>\n",
       "<style scoped>\n",
       "    .dataframe tbody tr th:only-of-type {\n",
       "        vertical-align: middle;\n",
       "    }\n",
       "\n",
       "    .dataframe tbody tr th {\n",
       "        vertical-align: top;\n",
       "    }\n",
       "\n",
       "    .dataframe thead th {\n",
       "        text-align: right;\n",
       "    }\n",
       "</style>\n",
       "<table border=\"1\" class=\"dataframe\">\n",
       "  <thead>\n",
       "    <tr style=\"text-align: right;\">\n",
       "      <th></th>\n",
       "      <th>RecordID</th>\n",
       "      <th>FULL_ADDRESS</th>\n",
       "      <th>STREET_ADDRESS</th>\n",
       "      <th>SUITE</th>\n",
       "      <th>STREET_NUMBER</th>\n",
       "      <th>STREET_NAME</th>\n",
       "      <th>STREET_TYPE</th>\n",
       "      <th>STREET_DIRECTION</th>\n",
       "      <th>CITY</th>\n",
       "      <th>PROVINCE</th>\n",
       "      <th>POSTAL_CODE</th>\n",
       "      <th>LATITUDE</th>\n",
       "      <th>LONGITUDE</th>\n",
       "      <th>DISSEMINATION_AREA</th>\n",
       "      <th>PROPERTY_STYLE</th>\n",
       "      <th>TEST_FLAG</th>\n",
       "    </tr>\n",
       "  </thead>\n",
       "  <tbody>\n",
       "    <tr>\n",
       "      <th>1</th>\n",
       "      <td>1</td>\n",
       "      <td>52 AUSTIN DR, WATERLOO ON N2L 3Y3</td>\n",
       "      <td>52 AUSTIN DR</td>\n",
       "      <td>None</td>\n",
       "      <td>52</td>\n",
       "      <td>AUSTIN</td>\n",
       "      <td>DR</td>\n",
       "      <td>None</td>\n",
       "      <td>WATERLOO</td>\n",
       "      <td>ON</td>\n",
       "      <td>N2L3Y3</td>\n",
       "      <td>43.4817</td>\n",
       "      <td>-80.5322</td>\n",
       "      <td>35300062</td>\n",
       "      <td>1_SFD</td>\n",
       "      <td>0</td>\n",
       "    </tr>\n",
       "    <tr>\n",
       "      <th>2</th>\n",
       "      <td>2</td>\n",
       "      <td>3 PEACHDALE AVE, ST CATHARINES ON L2M 5M2</td>\n",
       "      <td>3 PEACHDALE AVE</td>\n",
       "      <td>None</td>\n",
       "      <td>3</td>\n",
       "      <td>PEACHDALE</td>\n",
       "      <td>AVE</td>\n",
       "      <td>None</td>\n",
       "      <td>ST CATHARINES</td>\n",
       "      <td>ON</td>\n",
       "      <td>L2M5M2</td>\n",
       "      <td>43.1737</td>\n",
       "      <td>-79.2287</td>\n",
       "      <td>35260513</td>\n",
       "      <td>1_SFD</td>\n",
       "      <td>0</td>\n",
       "    </tr>\n",
       "    <tr>\n",
       "      <th>3</th>\n",
       "      <td>3</td>\n",
       "      <td>1093 PRINCIPALE RTE, AUMOND, QC J0W1W0</td>\n",
       "      <td>1093 PRINCIPALE RTE</td>\n",
       "      <td>None</td>\n",
       "      <td>1093</td>\n",
       "      <td>PRINCIPALE</td>\n",
       "      <td>RTE</td>\n",
       "      <td>None</td>\n",
       "      <td>AUMOND</td>\n",
       "      <td>QC</td>\n",
       "      <td>J0W1W0</td>\n",
       "      <td>46.5425</td>\n",
       "      <td>-75.8237</td>\n",
       "      <td>24830060</td>\n",
       "      <td>1_SFD</td>\n",
       "      <td>0</td>\n",
       "    </tr>\n",
       "    <tr>\n",
       "      <th>4</th>\n",
       "      <td>4</td>\n",
       "      <td>106-10 BASSETT BLVD, WHITBY ON L1N 9C5</td>\n",
       "      <td>10 BASSETT BLVD</td>\n",
       "      <td>106</td>\n",
       "      <td>10</td>\n",
       "      <td>BASSETT</td>\n",
       "      <td>BLVD</td>\n",
       "      <td>None</td>\n",
       "      <td>WHITBY</td>\n",
       "      <td>ON</td>\n",
       "      <td>L1N9C5</td>\n",
       "      <td>43.8946</td>\n",
       "      <td>-78.9441</td>\n",
       "      <td>35180602</td>\n",
       "      <td>4_ROW</td>\n",
       "      <td>0</td>\n",
       "    </tr>\n",
       "    <tr>\n",
       "      <th>5</th>\n",
       "      <td>5</td>\n",
       "      <td>122 QUAIL RUN DR, DORCHESTER, ON N0L1G3</td>\n",
       "      <td>122 QUAIL RUN DR</td>\n",
       "      <td>None</td>\n",
       "      <td>122</td>\n",
       "      <td>QUAIL RUN</td>\n",
       "      <td>DR</td>\n",
       "      <td>None</td>\n",
       "      <td>DORCHESTER</td>\n",
       "      <td>ON</td>\n",
       "      <td>N0L1G3</td>\n",
       "      <td>42.978</td>\n",
       "      <td>-81.0429</td>\n",
       "      <td>35390871</td>\n",
       "      <td>1_SFD</td>\n",
       "      <td>0</td>\n",
       "    </tr>\n",
       "  </tbody>\n",
       "</table>\n",
       "</div>"
      ],
      "text/plain": [
       "   RecordID                               FULL_ADDRESS       STREET_ADDRESS  \\\n",
       "1         1          52 AUSTIN DR, WATERLOO ON N2L 3Y3         52 AUSTIN DR   \n",
       "2         2  3 PEACHDALE AVE, ST CATHARINES ON L2M 5M2      3 PEACHDALE AVE   \n",
       "3         3     1093 PRINCIPALE RTE, AUMOND, QC J0W1W0  1093 PRINCIPALE RTE   \n",
       "4         4     106-10 BASSETT BLVD, WHITBY ON L1N 9C5      10 BASSETT BLVD   \n",
       "5         5    122 QUAIL RUN DR, DORCHESTER, ON N0L1G3     122 QUAIL RUN DR   \n",
       "\n",
       "  SUITE STREET_NUMBER STREET_NAME STREET_TYPE STREET_DIRECTION           CITY  \\\n",
       "1  None            52      AUSTIN          DR             None       WATERLOO   \n",
       "2  None             3   PEACHDALE         AVE             None  ST CATHARINES   \n",
       "3  None          1093  PRINCIPALE         RTE             None         AUMOND   \n",
       "4   106            10     BASSETT        BLVD             None         WHITBY   \n",
       "5  None           122   QUAIL RUN          DR             None     DORCHESTER   \n",
       "\n",
       "  PROVINCE POSTAL_CODE LATITUDE LONGITUDE  DISSEMINATION_AREA PROPERTY_STYLE  \\\n",
       "1       ON      N2L3Y3  43.4817  -80.5322            35300062          1_SFD   \n",
       "2       ON      L2M5M2  43.1737  -79.2287            35260513          1_SFD   \n",
       "3       QC      J0W1W0  46.5425  -75.8237            24830060          1_SFD   \n",
       "4       ON      L1N9C5  43.8946  -78.9441            35180602          4_ROW   \n",
       "5       ON      N0L1G3   42.978  -81.0429            35390871          1_SFD   \n",
       "\n",
       "   TEST_FLAG  \n",
       "1          0  \n",
       "2          0  \n",
       "3          0  \n",
       "4          0  \n",
       "5          0  "
      ]
     },
     "execution_count": 3,
     "metadata": {},
     "output_type": "execute_result"
    }
   ],
   "source": [
    "property_data.head()"
   ]
  },
  {
   "cell_type": "code",
   "execution_count": 5,
   "id": "8e9a447b",
   "metadata": {},
   "outputs": [],
   "source": [
    "# Convert Categorical/String to Numerical\n",
    "property_data_model = property_data[['SUITE', 'STREET_NUMBER',\n",
    "       'STREET_NAME', 'STREET_TYPE', 'STREET_DIRECTION', 'CITY', 'PROVINCE',\n",
    "       'POSTAL_CODE', 'LATITUDE', 'LONGITUDE', 'DISSEMINATION_AREA',\n",
    "       'PROPERTY_STYLE']]\n",
    "\n",
    "property_data_model['SUITE'] = pd.factorize(property_data_model['SUITE'])[0]\n",
    "property_data_model['STREET_NUMBER'] = pd.factorize(property_data_model['STREET_NUMBER'])[0]\n",
    "property_data_model['STREET_NAME'] = pd.factorize(property_data_model['STREET_NAME'])[0]\n",
    "property_data_model['STREET_TYPE'] = pd.factorize(property_data_model['STREET_TYPE'])[0]\n",
    "property_data_model['STREET_DIRECTION'] = pd.factorize(property_data_model['STREET_DIRECTION'])[0]\n",
    "property_data_model['CITY'] = pd.factorize(property_data_model['CITY'])[0]\n",
    "property_data_model['PROVINCE'] = pd.factorize(property_data_model['PROVINCE'])[0]\n",
    "property_data_model['POSTAL_CODE'] = pd.factorize(property_data_model['POSTAL_CODE'])[0]\n",
    "property_data_model[\"LATITUDE\"] = pd.to_numeric(property_data_model[\"LATITUDE\"], downcast=\"float\")\n",
    "property_data_model[\"LONGITUDE\"] = pd.to_numeric(property_data_model[\"LONGITUDE\"], downcast=\"float\")\n",
    "property_data_model['PROPERTY_STYLE'] = property_data_model['PROPERTY_STYLE'].apply(lambda x: int(x[0]))"
   ]
  },
  {
   "cell_type": "code",
   "execution_count": 4,
   "id": "3fcdfcd0",
   "metadata": {},
   "outputs": [
    {
     "data": {
      "text/plain": [
       "array(['1_SFD', '4_ROW', '2_SD', '3_CONDOAPT', '5_PLEX', '6_MOBILE',\n",
       "       '7_LAND'], dtype=object)"
      ]
     },
     "execution_count": 4,
     "metadata": {},
     "output_type": "execute_result"
    }
   ],
   "source": [
    "property_data['PROPERTY_STYLE'].unique()"
   ]
  },
  {
   "cell_type": "code",
   "execution_count": 6,
   "id": "989a6500",
   "metadata": {
    "scrolled": true
   },
   "outputs": [
    {
     "data": {
      "text/plain": [
       "((1230533, 16), (534173, 16), (696360, 16))"
      ]
     },
     "execution_count": 6,
     "metadata": {},
     "output_type": "execute_result"
    }
   ],
   "source": [
    "# Import datasets to test final model on\n",
    "rlp_data = pd.read_csv('rps_property_data_rlp.csv')\n",
    "rlp_data = rlp_data.replace({np.nan: None})\n",
    "rlp_data = rlp_data[(rlp_data['PROVINCE'].notnull()) & \\\n",
    "                    (rlp_data['PROVINCE']!='CO') & \\\n",
    "                    (rlp_data['LATITUDE'].notnull()) & \\\n",
    "                    (rlp_data['LONGITUDE'].notnull())]\n",
    " \n",
    "rlp_nolabel = rlp_data[(rlp_data['PROPERTY_STYLE'].isnull()) | \\\n",
    "                       (rlp_data['PROPERTY_STYLE'] == '8_OTHER')]\n",
    "rlp_label = rlp_data[(rlp_data['PROPERTY_STYLE'].notnull()) & \\\n",
    "                     (rlp_data['PROPERTY_STYLE']!='8_OTHER')]\n",
    "\n",
    "rlp_data.shape, rlp_nolabel.shape, rlp_label.shape"
   ]
  },
  {
   "cell_type": "code",
   "execution_count": 7,
   "id": "9f72ea13",
   "metadata": {},
   "outputs": [],
   "source": [
    "# Convert Categorical/String to Numerical\n",
    "rlp_nolabel_model = rlp_nolabel[['SUITE', 'STREET_NUMBER',\n",
    "       'STREET_NAME', 'STREET_TYPE', 'STREET_DIRECTION', 'CITY', 'PROVINCE',\n",
    "       'POSTAL_CODE', 'LATITUDE', 'LONGITUDE', 'DISSEMINATION_AREA']]\n",
    "\n",
    "rlp_nolabel_model['SUITE'] = pd.factorize(rlp_nolabel_model['SUITE'])[0]\n",
    "rlp_nolabel_model['STREET_NUMBER'] = pd.factorize(rlp_nolabel_model['STREET_NUMBER'])[0]\n",
    "rlp_nolabel_model['STREET_NAME'] = pd.factorize(rlp_nolabel_model['STREET_NAME'])[0]\n",
    "rlp_nolabel_model['STREET_TYPE'] = pd.factorize(rlp_nolabel_model['STREET_TYPE'])[0]\n",
    "rlp_nolabel_model['STREET_DIRECTION'] = pd.factorize(rlp_nolabel_model['STREET_DIRECTION'])[0]\n",
    "rlp_nolabel_model['CITY'] = pd.factorize(rlp_nolabel_model['CITY'])[0]\n",
    "rlp_nolabel_model['PROVINCE'] = pd.factorize(rlp_nolabel_model['PROVINCE'])[0]\n",
    "rlp_nolabel_model['POSTAL_CODE'] = pd.factorize(rlp_nolabel_model['POSTAL_CODE'])[0]\n",
    "rlp_nolabel_model[\"LATITUDE\"] = pd.to_numeric(rlp_nolabel_model[\"LATITUDE\"], downcast=\"float\")\n",
    "rlp_nolabel_model[\"LONGITUDE\"] = pd.to_numeric(rlp_nolabel_model[\"LONGITUDE\"], downcast=\"float\")\n",
    "\n",
    "rlp_label_model = rlp_label[['SUITE', 'STREET_NUMBER',\n",
    "       'STREET_NAME', 'STREET_TYPE', 'STREET_DIRECTION', 'CITY', 'PROVINCE',\n",
    "       'POSTAL_CODE', 'LATITUDE', 'LONGITUDE', 'DISSEMINATION_AREA',\n",
    "       'PROPERTY_STYLE']]\n",
    "\n",
    "rlp_label_model['SUITE'] = pd.factorize(rlp_label_model['SUITE'])[0]\n",
    "rlp_label_model['STREET_NUMBER'] = pd.factorize(rlp_label_model['STREET_NUMBER'])[0]\n",
    "rlp_label_model['STREET_NAME'] = pd.factorize(rlp_label_model['STREET_NAME'])[0]\n",
    "rlp_label_model['STREET_TYPE'] = pd.factorize(rlp_label_model['STREET_TYPE'])[0]\n",
    "rlp_label_model['STREET_DIRECTION'] = pd.factorize(rlp_label_model['STREET_DIRECTION'])[0]\n",
    "rlp_label_model['CITY'] = pd.factorize(rlp_label_model['CITY'])[0]\n",
    "rlp_label_model['PROVINCE'] = pd.factorize(rlp_label_model['PROVINCE'])[0]\n",
    "rlp_label_model['POSTAL_CODE'] = pd.factorize(rlp_label_model['POSTAL_CODE'])[0]\n",
    "rlp_label_model[\"LATITUDE\"] = pd.to_numeric(rlp_label_model[\"LATITUDE\"], downcast=\"float\")\n",
    "rlp_label_model[\"LONGITUDE\"] = pd.to_numeric(rlp_label_model[\"LONGITUDE\"], downcast=\"float\")\n",
    "rlp_label_model['PROPERTY_STYLE'] = rlp_label_model['PROPERTY_STYLE'].apply(lambda x: int(x[0]))"
   ]
  },
  {
   "cell_type": "markdown",
   "id": "1ecbdb87",
   "metadata": {},
   "source": [
    "### Data Facts"
   ]
  },
  {
   "cell_type": "code",
   "execution_count": 8,
   "id": "370316f4",
   "metadata": {
    "scrolled": true
   },
   "outputs": [
    {
     "data": {
      "text/html": [
       "<div>\n",
       "<style scoped>\n",
       "    .dataframe tbody tr th:only-of-type {\n",
       "        vertical-align: middle;\n",
       "    }\n",
       "\n",
       "    .dataframe tbody tr th {\n",
       "        vertical-align: top;\n",
       "    }\n",
       "\n",
       "    .dataframe thead th {\n",
       "        text-align: right;\n",
       "    }\n",
       "</style>\n",
       "<table border=\"1\" class=\"dataframe\">\n",
       "  <thead>\n",
       "    <tr style=\"text-align: right;\">\n",
       "      <th></th>\n",
       "      <th>FULL_ADDRESS</th>\n",
       "    </tr>\n",
       "    <tr>\n",
       "      <th>PROPERTY_STYLE</th>\n",
       "      <th></th>\n",
       "    </tr>\n",
       "  </thead>\n",
       "  <tbody>\n",
       "    <tr>\n",
       "      <th>1_SFD</th>\n",
       "      <td>1166357</td>\n",
       "    </tr>\n",
       "    <tr>\n",
       "      <th>2_SD</th>\n",
       "      <td>61259</td>\n",
       "    </tr>\n",
       "    <tr>\n",
       "      <th>3_CONDOAPT</th>\n",
       "      <td>217768</td>\n",
       "    </tr>\n",
       "    <tr>\n",
       "      <th>4_ROW</th>\n",
       "      <td>137929</td>\n",
       "    </tr>\n",
       "    <tr>\n",
       "      <th>5_PLEX</th>\n",
       "      <td>11770</td>\n",
       "    </tr>\n",
       "    <tr>\n",
       "      <th>6_MOBILE</th>\n",
       "      <td>5947</td>\n",
       "    </tr>\n",
       "    <tr>\n",
       "      <th>7_LAND</th>\n",
       "      <td>56</td>\n",
       "    </tr>\n",
       "  </tbody>\n",
       "</table>\n",
       "</div>"
      ],
      "text/plain": [
       "                FULL_ADDRESS\n",
       "PROPERTY_STYLE              \n",
       "1_SFD                1166357\n",
       "2_SD                   61259\n",
       "3_CONDOAPT            217768\n",
       "4_ROW                 137929\n",
       "5_PLEX                 11770\n",
       "6_MOBILE                5947\n",
       "7_LAND                    56"
      ]
     },
     "execution_count": 8,
     "metadata": {},
     "output_type": "execute_result"
    }
   ],
   "source": [
    "property_data[['PROPERTY_STYLE','FULL_ADDRESS']].groupby('PROPERTY_STYLE').count()"
   ]
  },
  {
   "cell_type": "code",
   "execution_count": 9,
   "id": "e3912c17",
   "metadata": {
    "scrolled": true
   },
   "outputs": [
    {
     "data": {
      "text/html": [
       "<div>\n",
       "<style scoped>\n",
       "    .dataframe tbody tr th:only-of-type {\n",
       "        vertical-align: middle;\n",
       "    }\n",
       "\n",
       "    .dataframe tbody tr th {\n",
       "        vertical-align: top;\n",
       "    }\n",
       "\n",
       "    .dataframe thead th {\n",
       "        text-align: right;\n",
       "    }\n",
       "</style>\n",
       "<table border=\"1\" class=\"dataframe\">\n",
       "  <thead>\n",
       "    <tr style=\"text-align: right;\">\n",
       "      <th></th>\n",
       "      <th>FULL_ADDRESS</th>\n",
       "    </tr>\n",
       "    <tr>\n",
       "      <th>PROPERTY_STYLE</th>\n",
       "      <th></th>\n",
       "    </tr>\n",
       "  </thead>\n",
       "  <tbody>\n",
       "    <tr>\n",
       "      <th>1_SFD</th>\n",
       "      <td>511076</td>\n",
       "    </tr>\n",
       "    <tr>\n",
       "      <th>2_SD</th>\n",
       "      <td>27778</td>\n",
       "    </tr>\n",
       "    <tr>\n",
       "      <th>3_CONDOAPT</th>\n",
       "      <td>94345</td>\n",
       "    </tr>\n",
       "    <tr>\n",
       "      <th>4_ROW</th>\n",
       "      <td>56801</td>\n",
       "    </tr>\n",
       "    <tr>\n",
       "      <th>5_PLEX</th>\n",
       "      <td>3044</td>\n",
       "    </tr>\n",
       "    <tr>\n",
       "      <th>6_MOBILE</th>\n",
       "      <td>3307</td>\n",
       "    </tr>\n",
       "    <tr>\n",
       "      <th>7_LAND</th>\n",
       "      <td>9</td>\n",
       "    </tr>\n",
       "  </tbody>\n",
       "</table>\n",
       "</div>"
      ],
      "text/plain": [
       "                FULL_ADDRESS\n",
       "PROPERTY_STYLE              \n",
       "1_SFD                 511076\n",
       "2_SD                   27778\n",
       "3_CONDOAPT             94345\n",
       "4_ROW                  56801\n",
       "5_PLEX                  3044\n",
       "6_MOBILE                3307\n",
       "7_LAND                     9"
      ]
     },
     "execution_count": 9,
     "metadata": {},
     "output_type": "execute_result"
    }
   ],
   "source": [
    "rlp_label[['PROPERTY_STYLE','FULL_ADDRESS']].groupby('PROPERTY_STYLE').count()"
   ]
  },
  {
   "cell_type": "code",
   "execution_count": 10,
   "id": "b00554e6",
   "metadata": {},
   "outputs": [
    {
     "data": {
      "text/html": [
       "<div>\n",
       "<style scoped>\n",
       "    .dataframe tbody tr th:only-of-type {\n",
       "        vertical-align: middle;\n",
       "    }\n",
       "\n",
       "    .dataframe tbody tr th {\n",
       "        vertical-align: top;\n",
       "    }\n",
       "\n",
       "    .dataframe thead th {\n",
       "        text-align: right;\n",
       "    }\n",
       "</style>\n",
       "<table border=\"1\" class=\"dataframe\">\n",
       "  <thead>\n",
       "    <tr style=\"text-align: right;\">\n",
       "      <th></th>\n",
       "      <th>FULL_ADDRESS</th>\n",
       "    </tr>\n",
       "    <tr>\n",
       "      <th>PROVINCE</th>\n",
       "      <th></th>\n",
       "    </tr>\n",
       "  </thead>\n",
       "  <tbody>\n",
       "    <tr>\n",
       "      <th>AB</th>\n",
       "      <td>168387</td>\n",
       "    </tr>\n",
       "    <tr>\n",
       "      <th>BC</th>\n",
       "      <td>225951</td>\n",
       "    </tr>\n",
       "    <tr>\n",
       "      <th>MB</th>\n",
       "      <td>27572</td>\n",
       "    </tr>\n",
       "    <tr>\n",
       "      <th>NB</th>\n",
       "      <td>17317</td>\n",
       "    </tr>\n",
       "    <tr>\n",
       "      <th>NL</th>\n",
       "      <td>9000</td>\n",
       "    </tr>\n",
       "    <tr>\n",
       "      <th>NS</th>\n",
       "      <td>25991</td>\n",
       "    </tr>\n",
       "    <tr>\n",
       "      <th>NT</th>\n",
       "      <td>29</td>\n",
       "    </tr>\n",
       "    <tr>\n",
       "      <th>NU</th>\n",
       "      <td>13</td>\n",
       "    </tr>\n",
       "    <tr>\n",
       "      <th>ON</th>\n",
       "      <td>742827</td>\n",
       "    </tr>\n",
       "    <tr>\n",
       "      <th>PE</th>\n",
       "      <td>4889</td>\n",
       "    </tr>\n",
       "    <tr>\n",
       "      <th>QC</th>\n",
       "      <td>354395</td>\n",
       "    </tr>\n",
       "    <tr>\n",
       "      <th>SK</th>\n",
       "      <td>23355</td>\n",
       "    </tr>\n",
       "    <tr>\n",
       "      <th>YT</th>\n",
       "      <td>1360</td>\n",
       "    </tr>\n",
       "  </tbody>\n",
       "</table>\n",
       "</div>"
      ],
      "text/plain": [
       "          FULL_ADDRESS\n",
       "PROVINCE              \n",
       "AB              168387\n",
       "BC              225951\n",
       "MB               27572\n",
       "NB               17317\n",
       "NL                9000\n",
       "NS               25991\n",
       "NT                  29\n",
       "NU                  13\n",
       "ON              742827\n",
       "PE                4889\n",
       "QC              354395\n",
       "SK               23355\n",
       "YT                1360"
      ]
     },
     "execution_count": 10,
     "metadata": {},
     "output_type": "execute_result"
    }
   ],
   "source": [
    "# Use distribution to confirm if we should stratify the test sample by province\n",
    "property_data[['PROVINCE','FULL_ADDRESS']].groupby('PROVINCE').count()"
   ]
  },
  {
   "cell_type": "code",
   "execution_count": 11,
   "id": "07e88e60",
   "metadata": {},
   "outputs": [
    {
     "data": {
      "text/html": [
       "<div>\n",
       "<style scoped>\n",
       "    .dataframe tbody tr th:only-of-type {\n",
       "        vertical-align: middle;\n",
       "    }\n",
       "\n",
       "    .dataframe tbody tr th {\n",
       "        vertical-align: top;\n",
       "    }\n",
       "\n",
       "    .dataframe thead th {\n",
       "        text-align: right;\n",
       "    }\n",
       "</style>\n",
       "<table border=\"1\" class=\"dataframe\">\n",
       "  <thead>\n",
       "    <tr style=\"text-align: right;\">\n",
       "      <th></th>\n",
       "      <th>FULL_ADDRESS</th>\n",
       "    </tr>\n",
       "    <tr>\n",
       "      <th>PROVINCE</th>\n",
       "      <th></th>\n",
       "    </tr>\n",
       "  </thead>\n",
       "  <tbody>\n",
       "    <tr>\n",
       "      <th>AB</th>\n",
       "      <td>111109</td>\n",
       "    </tr>\n",
       "    <tr>\n",
       "      <th>BC</th>\n",
       "      <td>214764</td>\n",
       "    </tr>\n",
       "    <tr>\n",
       "      <th>MB</th>\n",
       "      <td>44566</td>\n",
       "    </tr>\n",
       "    <tr>\n",
       "      <th>NB</th>\n",
       "      <td>23747</td>\n",
       "    </tr>\n",
       "    <tr>\n",
       "      <th>NL</th>\n",
       "      <td>13339</td>\n",
       "    </tr>\n",
       "    <tr>\n",
       "      <th>NS</th>\n",
       "      <td>24297</td>\n",
       "    </tr>\n",
       "    <tr>\n",
       "      <th>NT</th>\n",
       "      <td>5</td>\n",
       "    </tr>\n",
       "    <tr>\n",
       "      <th>ON</th>\n",
       "      <td>663521</td>\n",
       "    </tr>\n",
       "    <tr>\n",
       "      <th>PE</th>\n",
       "      <td>3621</td>\n",
       "    </tr>\n",
       "    <tr>\n",
       "      <th>QC</th>\n",
       "      <td>107247</td>\n",
       "    </tr>\n",
       "    <tr>\n",
       "      <th>SK</th>\n",
       "      <td>24312</td>\n",
       "    </tr>\n",
       "    <tr>\n",
       "      <th>YT</th>\n",
       "      <td>5</td>\n",
       "    </tr>\n",
       "  </tbody>\n",
       "</table>\n",
       "</div>"
      ],
      "text/plain": [
       "          FULL_ADDRESS\n",
       "PROVINCE              \n",
       "AB              111109\n",
       "BC              214764\n",
       "MB               44566\n",
       "NB               23747\n",
       "NL               13339\n",
       "NS               24297\n",
       "NT                   5\n",
       "ON              663521\n",
       "PE                3621\n",
       "QC              107247\n",
       "SK               24312\n",
       "YT                   5"
      ]
     },
     "execution_count": 11,
     "metadata": {},
     "output_type": "execute_result"
    }
   ],
   "source": [
    "rlp_data[['PROVINCE','FULL_ADDRESS']].groupby('PROVINCE').count()"
   ]
  },
  {
   "cell_type": "code",
   "execution_count": 12,
   "id": "73d9d601",
   "metadata": {},
   "outputs": [
    {
     "data": {
      "text/html": [
       "<div>\n",
       "<style scoped>\n",
       "    .dataframe tbody tr th:only-of-type {\n",
       "        vertical-align: middle;\n",
       "    }\n",
       "\n",
       "    .dataframe tbody tr th {\n",
       "        vertical-align: top;\n",
       "    }\n",
       "\n",
       "    .dataframe thead th {\n",
       "        text-align: right;\n",
       "    }\n",
       "</style>\n",
       "<table border=\"1\" class=\"dataframe\">\n",
       "  <thead>\n",
       "    <tr style=\"text-align: right;\">\n",
       "      <th></th>\n",
       "      <th>FULL_ADDRESS</th>\n",
       "    </tr>\n",
       "    <tr>\n",
       "      <th>PROVINCE</th>\n",
       "      <th></th>\n",
       "    </tr>\n",
       "  </thead>\n",
       "  <tbody>\n",
       "    <tr>\n",
       "      <th>AB</th>\n",
       "      <td>47684</td>\n",
       "    </tr>\n",
       "    <tr>\n",
       "      <th>BC</th>\n",
       "      <td>117059</td>\n",
       "    </tr>\n",
       "    <tr>\n",
       "      <th>MB</th>\n",
       "      <td>23293</td>\n",
       "    </tr>\n",
       "    <tr>\n",
       "      <th>NB</th>\n",
       "      <td>13735</td>\n",
       "    </tr>\n",
       "    <tr>\n",
       "      <th>NL</th>\n",
       "      <td>6457</td>\n",
       "    </tr>\n",
       "    <tr>\n",
       "      <th>NS</th>\n",
       "      <td>12637</td>\n",
       "    </tr>\n",
       "    <tr>\n",
       "      <th>NT</th>\n",
       "      <td>4</td>\n",
       "    </tr>\n",
       "    <tr>\n",
       "      <th>ON</th>\n",
       "      <td>248269</td>\n",
       "    </tr>\n",
       "    <tr>\n",
       "      <th>PE</th>\n",
       "      <td>2030</td>\n",
       "    </tr>\n",
       "    <tr>\n",
       "      <th>QC</th>\n",
       "      <td>50341</td>\n",
       "    </tr>\n",
       "    <tr>\n",
       "      <th>SK</th>\n",
       "      <td>12662</td>\n",
       "    </tr>\n",
       "    <tr>\n",
       "      <th>YT</th>\n",
       "      <td>2</td>\n",
       "    </tr>\n",
       "  </tbody>\n",
       "</table>\n",
       "</div>"
      ],
      "text/plain": [
       "          FULL_ADDRESS\n",
       "PROVINCE              \n",
       "AB               47684\n",
       "BC              117059\n",
       "MB               23293\n",
       "NB               13735\n",
       "NL                6457\n",
       "NS               12637\n",
       "NT                   4\n",
       "ON              248269\n",
       "PE                2030\n",
       "QC               50341\n",
       "SK               12662\n",
       "YT                   2"
      ]
     },
     "execution_count": 12,
     "metadata": {},
     "output_type": "execute_result"
    }
   ],
   "source": [
    "rlp_nolabel[['PROVINCE','FULL_ADDRESS']].groupby('PROVINCE').count()"
   ]
  },
  {
   "cell_type": "code",
   "execution_count": 15,
   "id": "9786cd38",
   "metadata": {},
   "outputs": [],
   "source": [
    "# Split into training data into train and test set (test set used for model selection)\n",
    "X = property_data_model.iloc[:, 0:11]\n",
    "y = property_data_model.iloc[:, 11:12]\n",
    "\n",
    "# Stratify on sample based on Province \n",
    "X_train, X_test, y_train, y_test = train_test_split(X, y, test_size=0.5, shuffle=True, \\\n",
    "                                                    random_state=4624, stratify=X['PROVINCE'])"
   ]
  },
  {
   "cell_type": "code",
   "execution_count": 16,
   "id": "151c46e0",
   "metadata": {},
   "outputs": [
    {
     "data": {
      "text/plain": [
       "((800543, 11), (800543, 11))"
      ]
     },
     "execution_count": 16,
     "metadata": {},
     "output_type": "execute_result"
    }
   ],
   "source": [
    "X_train.shape, X_test.shape"
   ]
  },
  {
   "cell_type": "markdown",
   "id": "030f3df5",
   "metadata": {},
   "source": [
    "## Model Creation\n",
    "1. KNN\n",
    "2. Logistic Regression\n",
    "3. Random Forest\n",
    "4. Neural Network"
   ]
  },
  {
   "cell_type": "code",
   "execution_count": 17,
   "id": "996660d3",
   "metadata": {},
   "outputs": [],
   "source": [
    "from sklearn.neighbors import KNeighborsClassifier \n",
    "from sklearn.linear_model import LogisticRegression\n",
    "from sklearn.model_selection import GridSearchCV\n",
    "from datetime import datetime"
   ]
  },
  {
   "cell_type": "markdown",
   "id": "55fdb60d",
   "metadata": {},
   "source": [
    "### KNN\n",
    "Testing Manhattan and Euclidean distance to tune k."
   ]
  },
  {
   "cell_type": "code",
   "execution_count": null,
   "id": "ec1cdb1e",
   "metadata": {
    "scrolled": true
   },
   "outputs": [
    {
     "name": "stdout",
     "output_type": "stream",
     "text": [
      "2022-04-28 21:16:03.815036\n",
      "[1, 2, 3, 4, 5]\n",
      "1 euclidean\n",
      "2 euclidean\n",
      "3 euclidean\n"
     ]
    }
   ],
   "source": [
    "# https://scikit-learn.org/stable/modules/generated/sklearn.neighbors.KNeighborsClassifier.html#sklearn.neighbors.KNeighborsClassifier\n",
    "start = datetime.now()\n",
    "print(start)\n",
    "\n",
    "train_accuracy_euc = []\n",
    "test_accuracy_euc = []\n",
    "train_accuracy_man = []\n",
    "test_accuracy_man = []\n",
    "\n",
    "# Loop through different values of k\n",
    "n_neighbors = list(np.arange(1,6,1))\n",
    "print(n_neighbors)\n",
    "\n",
    "for m in ['euclidean', 'manhattan']:\n",
    "    for k in n_neighbors:\n",
    "        print(k,m)\n",
    "        \n",
    "        knn = KNeighborsClassifier(n_neighbors=k, metric=m)\n",
    "        knn.fit(X_train,y_train) \n",
    "    \n",
    "        train_score = knn.score(X_train, y_train)\n",
    "        test_score = knn.score(X_test, y_test)\n",
    "        \n",
    "        if m=='euclidean':\n",
    "            train_accuracy_euc.append(train_score)\n",
    "            test_accuracy_euc.append(test_score)\n",
    "        else:\n",
    "            train_accuracy_man.append(train_score)\n",
    "            test_accuracy_man.append(test_score)\n",
    "            \n",
    "end = datetime.now()\n",
    "print (end-start)"
   ]
  },
  {
   "cell_type": "code",
   "execution_count": null,
   "id": "bb409c6f",
   "metadata": {},
   "outputs": [],
   "source": [
    "# https://matplotlib.org/3.5.0/api/_as_gen/matplotlib.axes.Axes.set_ylim.html\n",
    "f = plt.figure(figsize=(10,3))\n",
    "ax = f.add_subplot(121)\n",
    "ax2 = f.add_subplot(122)\n",
    "ax.plot(n_neighbors, train_accuracy_euc, label='Euclidean')\n",
    "ax.plot(n_neighbors, train_accuracy_man, label='Manhattan')\n",
    "ax2.plot(n_neighbors, test_accuracy_euc, label='Euclidean')\n",
    "ax2.plot(n_neighbors, test_accuracy_man, label='Manhattan')\n",
    "\n",
    "ax.set_title('Training Set Accuracy')\n",
    "ax2.set_title('Test Set Accuracy')\n",
    "ax.set_xlabel('k value')\n",
    "ax2.set_xlabel('k value')\n",
    "ax.legend()\n",
    "ax2.legend()\n",
    "\n",
    "f.savefig('KNN_Results.jpg')"
   ]
  },
  {
   "cell_type": "markdown",
   "id": "052450f3",
   "metadata": {},
   "source": [
    "### Final KNN Model\n",
    "knn = KNeighborsClassifier(n_neighbors=2, metric='manhattan')"
   ]
  },
  {
   "cell_type": "code",
   "execution_count": 18,
   "id": "0ee37e35",
   "metadata": {},
   "outputs": [
    {
     "name": "stdout",
     "output_type": "stream",
     "text": [
      "Training Accuracy: 0.9225987860739523\n",
      "Test Accuracy: 0.8502403993289555\n"
     ]
    }
   ],
   "source": [
    "# Fitting the KNN model\n",
    "knn = KNeighborsClassifier(n_neighbors=2, metric='manhattan')\n",
    "knn.fit(X_train, y_train)\n",
    "knn_score_train = knn.score(X_train, y_train)\n",
    "knn_score_test = knn.score(X_test, y_test)\n",
    "\n",
    "print('Training Accuracy: ' + str(knn_score_train))\n",
    "print('Test Accuracy: ' + str(knn_score_test))"
   ]
  },
  {
   "cell_type": "markdown",
   "id": "36824d7e",
   "metadata": {},
   "source": [
    "### Multinomial Logistic Regression\n",
    "* newton-cg took 15 hours to run!!"
   ]
  },
  {
   "cell_type": "code",
   "execution_count": 16,
   "id": "eaee3fa3",
   "metadata": {},
   "outputs": [
    {
     "name": "stdout",
     "output_type": "stream",
     "text": [
      "2022-04-24 15:04:48.812556\n",
      "lbfgs\n",
      "sag\n",
      "saga\n",
      "0:10:47.379437\n"
     ]
    }
   ],
   "source": [
    "# https://machinelearningmastery.com/multinomial-logistic-regression-with-python/\n",
    "# https://scikit-learn.org/stable/modules/generated/sklearn.linear_model.LogisticRegression.html\n",
    "# https://stackoverflow.com/questions/38640109/logistic-regression-python-solvers-definitions\n",
    "\n",
    "start = datetime.now()\n",
    "print(start)\n",
    "\n",
    "solver = ['lbfgs', 'sag', 'saga']\n",
    "lr_train_accuracy = []\n",
    "lr_test_accuracy = []\n",
    "\n",
    "for s in solver:\n",
    "    print(s)\n",
    "\n",
    "    lr_model = LogisticRegression(multi_class='multinomial', max_iter=200, solver=s)\n",
    "    lr_model.fit(X_train, y_train)\n",
    "    lr_score_train = lr_model.score(X_train, y_train)\n",
    "    lr_score_test = lr_model.score(X_test, y_test)\n",
    "    lr_train_accuracy.append(lr_score_train)\n",
    "    lr_test_accuracy.append(lr_score_test)\n",
    "    \n",
    "end = datetime.now()\n",
    "print (end-start)"
   ]
  },
  {
   "cell_type": "code",
   "execution_count": 37,
   "id": "90046016",
   "metadata": {
    "scrolled": true
   },
   "outputs": [
    {
     "data": {
      "image/png": "[encoded data removed]",
      "text/plain": [
       "<Figure size 720x216 with 2 Axes>"
      ]
     },
     "metadata": {
      "needs_background": "light"
     },
     "output_type": "display_data"
    }
   ],
   "source": [
    "f = plt.figure(figsize=(10,3))\n",
    "ax = f.add_subplot(121)\n",
    "ax2 = f.add_subplot(122)\n",
    "\n",
    "clrs_train = ['lightgrey' if (x < max(lr_train_accuracy)) else 'tab:blue' for x in lr_train_accuracy]\n",
    "clrs_test = ['lightgrey' if (x < max(lr_test_accuracy)) else 'tab:blue' for x in lr_test_accuracy]\n",
    "\n",
    "ax.bar(solver, lr_train_accuracy, color=clrs_train)\n",
    "ax2.bar(solver, lr_test_accuracy, color=clrs_test)\n",
    "\n",
    "ax.set_title('Training Set Accuracy')\n",
    "ax2.set_title('Test Set Accuracy')\n",
    "ax.set_xlabel('Solver')\n",
    "ax2.set_xlabel('Solver')\n",
    "\n",
    "f.savefig('LogReg_Results.jpg')"
   ]
  },
  {
   "cell_type": "markdown",
   "id": "24a6ce86",
   "metadata": {},
   "source": [
    "### Final Logistic Regression Model\n",
    "LogisticRegression(multi_class='multinomial', max_iter=200, solver='sag')"
   ]
  },
  {
   "cell_type": "code",
   "execution_count": 19,
   "id": "8ee6534f",
   "metadata": {},
   "outputs": [
    {
     "name": "stdout",
     "output_type": "stream",
     "text": [
      "Training Accuracy: 0.7329500101805899\n",
      "Test Accuracy: 0.7333547354732975\n"
     ]
    }
   ],
   "source": [
    "# Fitting the LR model\n",
    "lr_model = LogisticRegression(multi_class='multinomial', max_iter=200, solver='sag')\n",
    "lr_model.fit(X_train, y_train)\n",
    "lr_score_train = lr_model.score(X_train, y_train)\n",
    "lr_score_test = lr_model.score(X_test, y_test)\n",
    "\n",
    "print('Training Accuracy: ' + str(lr_score_train))\n",
    "print('Test Accuracy: ' + str(lr_score_test))"
   ]
  },
  {
   "cell_type": "markdown",
   "id": "de948e5b",
   "metadata": {},
   "source": [
    "### Random Forest"
   ]
  },
  {
   "cell_type": "code",
   "execution_count": 21,
   "id": "f57c8b71",
   "metadata": {},
   "outputs": [
    {
     "name": "stdout",
     "output_type": "stream",
     "text": [
      "2022-04-28 21:35:40.224612\n",
      "0:08:27.791727\n"
     ]
    }
   ],
   "source": [
    "from sklearn.ensemble import RandomForestClassifier\n",
    "# https://scikit-learn.org/stable/modules/generated/sklearn.ensemble.RandomForestClassifier.html\n",
    "\n",
    "start = datetime.now()\n",
    "print(start)\n",
    "\n",
    "rf_clf = RandomForestClassifier(min_samples_leaf = 100, random_state=0)\n",
    "rf_clf.fit(X_train, y_train)\n",
    "\n",
    "end = datetime.now()\n",
    "print (end-start)"
   ]
  },
  {
   "cell_type": "code",
   "execution_count": 23,
   "id": "55f3bbe5",
   "metadata": {
    "scrolled": true
   },
   "outputs": [
    {
     "name": "stdout",
     "output_type": "stream",
     "text": [
      "Training Accuracy: 0.8530909645078403\n",
      "Test Accuracy: 0.8507488042491159\n"
     ]
    }
   ],
   "source": [
    "rf_train = rf_clf.score(X_train, y_train)\n",
    "rf_test = rf_clf.score(X_test, y_test)\n",
    "\n",
    "print('Training Accuracy: ' + str(rf_train))\n",
    "print('Test Accuracy: ' + str(rf_test))"
   ]
  },
  {
   "cell_type": "markdown",
   "id": "8ba4aaab",
   "metadata": {},
   "source": [
    "**Random Forest - Feature Importance**"
   ]
  },
  {
   "cell_type": "code",
   "execution_count": 51,
   "id": "2cb90b7c",
   "metadata": {},
   "outputs": [
    {
     "data": {
      "image/png": "[encoded data removed]",
      "text/plain": [
       "<Figure size 432x288 with 1 Axes>"
      ]
     },
     "metadata": {
      "needs_background": "light"
     },
     "output_type": "display_data"
    }
   ],
   "source": [
    "sorted_idx = rf_clf.feature_importances_.argsort()\n",
    "plt.barh(X_train.columns[sorted_idx], rf_clf.feature_importances_[sorted_idx])\n",
    "plt.xlabel(\"Random Forest Feature Importance\")\n",
    "plt.savefig('RandomForest_FeatureImportance.jpg')"
   ]
  },
  {
   "cell_type": "code",
   "execution_count": null,
   "id": "b3f877f6",
   "metadata": {},
   "outputs": [],
   "source": [
    "# import shap\n",
    "# explainer = shap.TreeExplainer(rf_clf)\n",
    "# shap_values = explainer.shap_values(X_test)\n",
    "# shap.summary_plot(shap_values, X_test, plot_type=\"bar\")"
   ]
  },
  {
   "cell_type": "markdown",
   "id": "558f2575",
   "metadata": {},
   "source": [
    "### Neural Network"
   ]
  },
  {
   "cell_type": "code",
   "execution_count": 26,
   "id": "56d3fc68",
   "metadata": {
    "scrolled": false
   },
   "outputs": [
    {
     "name": "stdout",
     "output_type": "stream",
     "text": [
      "2022-04-24 21:15:36.813732\n",
      "4:08:42.773813\n",
      "{'activation': 'logistic', 'alpha': 0.0001, 'hidden_layer_sizes': (150, 100, 50), 'max_iter': 200}\n"
     ]
    }
   ],
   "source": [
    "# https://michael-fuchs-python.netlify.app/2021/02/03/nn-multi-layer-perceptron-classifier-mlpclassifier/#mlpclassifier-for-multi-class-classification\n",
    "    \n",
    "param_grid = {  'hidden_layer_sizes': [(150,100,50), (100,50,30)],\n",
    "                'max_iter': [200],\n",
    "                'activation': ['logistic', 'relu'],\n",
    "                'alpha': [0.0001, 0.05]  }\n",
    "\n",
    "start = datetime.now()\n",
    "print(start)\n",
    "\n",
    "grid = GridSearchCV(MLPClassifier(), param_grid, n_jobs= -1, cv=5)\n",
    "grid.fit(X_train, y_train['PROPERTY_STYLE'].ravel())\n",
    "\n",
    "end = datetime.now()\n",
    "print (end-start)\n",
    "\n",
    "print(grid.best_params_)"
   ]
  },
  {
   "cell_type": "code",
   "execution_count": 22,
   "id": "74d28f46",
   "metadata": {},
   "outputs": [
    {
     "name": "stdout",
     "output_type": "stream",
     "text": [
      "2022-04-28 21:44:08.152110\n",
      "0:04:24.058111\n",
      "Training Accuracy: 0.7282244676425876\n",
      "Test Accuracy: 0.728732872562748\n"
     ]
    }
   ],
   "source": [
    "# https://scikit-learn.org/stable/modules/generated/sklearn.neural_network.MLPClassifier.html\n",
    "from sklearn.neural_network import MLPClassifier\n",
    "\n",
    "start = datetime.now()\n",
    "print(start)\n",
    "\n",
    "nn_model = MLPClassifier(alpha=0.0001, hidden_layer_sizes =(150, 100, 50), activation='logistic')\n",
    "nn_model.fit(X_train, y_train)\n",
    "\n",
    "end = datetime.now()\n",
    "print (end-start)\n",
    "\n",
    "nn_train = nn_model.score(X_train, y_train)\n",
    "nn_test = nn_model.score(X_test, y_test)\n",
    "\n",
    "print('Training Accuracy: ' + str(nn_train))\n",
    "print('Test Accuracy: ' + str(nn_test))"
   ]
  },
  {
   "cell_type": "markdown",
   "id": "7d2e6890",
   "metadata": {},
   "source": [
    "### Naive Bayes"
   ]
  },
  {
   "cell_type": "code",
   "execution_count": 27,
   "id": "428cf536",
   "metadata": {},
   "outputs": [
    {
     "name": "stdout",
     "output_type": "stream",
     "text": [
      "2022-04-25 01:24:19.619733\n",
      "Fitting 5 folds for each of 100 candidates, totalling 500 fits\n",
      "0:07:32.545579\n",
      "{'var_smoothing': 1e-09}\n"
     ]
    }
   ],
   "source": [
    "nb_classifier = GaussianNB()\n",
    "\n",
    "start = datetime.now()\n",
    "print(start)\n",
    "\n",
    "params_NB = {'var_smoothing': np.logspace(0,-9, num=100)}\n",
    "gs_NB = GridSearchCV(estimator=nb_classifier, \n",
    "                 param_grid=params_NB, \n",
    "                 cv=5,   # use any cross validation technique \n",
    "                 verbose=1, \n",
    "                 scoring='accuracy') \n",
    "gs_NB.fit(X_train, y_train)\n",
    "\n",
    "end = datetime.now()\n",
    "print (end-start)\n",
    "\n",
    "print(gs_NB.best_params_)"
   ]
  },
  {
   "cell_type": "code",
   "execution_count": 20,
   "id": "a9d4745e",
   "metadata": {},
   "outputs": [
    {
     "name": "stdout",
     "output_type": "stream",
     "text": [
      "2022-04-28 21:32:55.594175\n",
      "0:00:00.862308\n",
      "Training Accuracy: 0.7349811315569558\n",
      "Test Accuracy: 0.7351660060733777\n"
     ]
    }
   ],
   "source": [
    "from sklearn.naive_bayes import GaussianNB\n",
    "\n",
    "start = datetime.now()\n",
    "print(start)\n",
    "\n",
    "naive_bayes = GaussianNB(var_smoothing=1e-09)\n",
    "naive_bayes.fit(X_train, y_train)\n",
    "\n",
    "end = datetime.now()\n",
    "print (end-start)\n",
    "\n",
    "nb_score_train = naive_bayes.score(X_train, y_train)\n",
    "nb_score_test = naive_bayes.score(X_test, y_test)\n",
    "print('Training Accuracy: ' + str(nb_score_train))\n",
    "print('Test Accuracy: ' + str(nb_score_test))"
   ]
  },
  {
   "cell_type": "code",
   "execution_count": 47,
   "id": "c51a769a",
   "metadata": {},
   "outputs": [
    {
     "data": {
      "text/plain": [
       "100"
      ]
     },
     "execution_count": 47,
     "metadata": {},
     "output_type": "execute_result"
    }
   ],
   "source": [
    "len(np.logspace(0,-9, num=100))"
   ]
  },
  {
   "cell_type": "markdown",
   "id": "970b56f5",
   "metadata": {},
   "source": [
    "# Final Model Selection\n",
    "\n",
    "KNN (k=2, manhattan)\n",
    "\n",
    "Logistic Regression\n",
    "\n",
    "Random Forest\n",
    "\n",
    "Neural Network\n",
    "\n",
    "Naive Bayes"
   ]
  },
  {
   "cell_type": "markdown",
   "id": "28a4c6ee",
   "metadata": {},
   "source": [
    "# Use of Model on rlp_label"
   ]
  },
  {
   "cell_type": "code",
   "execution_count": 25,
   "id": "fb1d7cd0",
   "metadata": {
    "scrolled": true
   },
   "outputs": [],
   "source": [
    "X_rlp_label = rlp_label_model.iloc[:, 0:11]\n",
    "y_rlp_label = rlp_label_model.iloc[:, 11:12]"
   ]
  },
  {
   "cell_type": "code",
   "execution_count": 26,
   "id": "53200def",
   "metadata": {},
   "outputs": [
    {
     "name": "stdout",
     "output_type": "stream",
     "text": [
      "2022-04-28 21:55:35.452541\n",
      "0:01:21.279238\n",
      "KNN RLP Label Accuracy: 0.7260353839967832\n"
     ]
    }
   ],
   "source": [
    "# KNN Model\n",
    "start = datetime.now()\n",
    "print(start)\n",
    "\n",
    "knn = KNeighborsClassifier(n_neighbors=2, metric='manhattan')\n",
    "knn.fit(X_train, y_train)\n",
    "rlp_score_label = knn.score(X_rlp_label, y_rlp_label)\n",
    "\n",
    "end = datetime.now()\n",
    "print (end-start)\n",
    "\n",
    "print('KNN RLP Label Accuracy: ' + str(rlp_score_label))"
   ]
  },
  {
   "cell_type": "code",
   "execution_count": 27,
   "id": "9ba9cb82",
   "metadata": {
    "scrolled": true
   },
   "outputs": [
    {
     "name": "stdout",
     "output_type": "stream",
     "text": [
      "Random Forest RLP Label Accuracy: 0.8388017691998392\n"
     ]
    }
   ],
   "source": [
    "# Random Forest Model\n",
    "from sklearn.ensemble import RandomForestClassifier\n",
    "\n",
    "start = datetime.now()\n",
    "print(start)\n",
    "\n",
    "rf_clf = RandomForestClassifier(min_samples_leaf = 100, random_state=0)\n",
    "rf_clf.fit(X_train, y_train)\n",
    "\n",
    "rlp_score_label = rf_clf.score(X_rlp_label, y_rlp_label)\n",
    "\n",
    "end = datetime.now()\n",
    "print (end-start)\n",
    "\n",
    "print('Random Forest RLP Label Accuracy: ' + str(rlp_score_label))"
   ]
  },
  {
   "cell_type": "markdown",
   "id": "435e99ff",
   "metadata": {},
   "source": [
    "### Get Accuracy per Property Style"
   ]
  },
  {
   "cell_type": "code",
   "execution_count": 61,
   "id": "fd5b5c4a",
   "metadata": {
    "scrolled": true
   },
   "outputs": [
    {
     "data": {
      "text/html": [
       "<div>\n",
       "<style scoped>\n",
       "    .dataframe tbody tr th:only-of-type {\n",
       "        vertical-align: middle;\n",
       "    }\n",
       "\n",
       "    .dataframe tbody tr th {\n",
       "        vertical-align: top;\n",
       "    }\n",
       "\n",
       "    .dataframe thead th {\n",
       "        text-align: right;\n",
       "    }\n",
       "</style>\n",
       "<table border=\"1\" class=\"dataframe\">\n",
       "  <thead>\n",
       "    <tr style=\"text-align: right;\">\n",
       "      <th></th>\n",
       "      <th>SUITE</th>\n",
       "      <th>STREET_NUMBER</th>\n",
       "      <th>STREET_NAME</th>\n",
       "      <th>STREET_TYPE</th>\n",
       "      <th>STREET_DIRECTION</th>\n",
       "      <th>CITY</th>\n",
       "      <th>PROVINCE</th>\n",
       "      <th>POSTAL_CODE</th>\n",
       "      <th>LATITUDE</th>\n",
       "      <th>LONGITUDE</th>\n",
       "      <th>DISSEMINATION_AREA</th>\n",
       "      <th>PROPERTY_STYLE</th>\n",
       "      <th>PROPERTY_STYLE_PRED_RF</th>\n",
       "      <th>PROPERTY_STYLE_PRED_KNN</th>\n",
       "      <th>KNN_CORRECT</th>\n",
       "      <th>RF_CORRECT</th>\n",
       "    </tr>\n",
       "  </thead>\n",
       "  <tbody>\n",
       "    <tr>\n",
       "      <th>0</th>\n",
       "      <td>-1</td>\n",
       "      <td>0</td>\n",
       "      <td>0</td>\n",
       "      <td>0</td>\n",
       "      <td>-1</td>\n",
       "      <td>0</td>\n",
       "      <td>0</td>\n",
       "      <td>0</td>\n",
       "      <td>45.332199</td>\n",
       "      <td>-75.777199</td>\n",
       "      <td>35061294</td>\n",
       "      <td>2</td>\n",
       "      <td>1</td>\n",
       "      <td>1</td>\n",
       "      <td>0</td>\n",
       "      <td>0</td>\n",
       "    </tr>\n",
       "    <tr>\n",
       "      <th>3</th>\n",
       "      <td>-1</td>\n",
       "      <td>1</td>\n",
       "      <td>1</td>\n",
       "      <td>1</td>\n",
       "      <td>-1</td>\n",
       "      <td>1</td>\n",
       "      <td>0</td>\n",
       "      <td>1</td>\n",
       "      <td>42.758801</td>\n",
       "      <td>-81.196800</td>\n",
       "      <td>35340052</td>\n",
       "      <td>1</td>\n",
       "      <td>1</td>\n",
       "      <td>1</td>\n",
       "      <td>1</td>\n",
       "      <td>1</td>\n",
       "    </tr>\n",
       "    <tr>\n",
       "      <th>5</th>\n",
       "      <td>-1</td>\n",
       "      <td>2</td>\n",
       "      <td>2</td>\n",
       "      <td>0</td>\n",
       "      <td>-1</td>\n",
       "      <td>2</td>\n",
       "      <td>0</td>\n",
       "      <td>2</td>\n",
       "      <td>43.187401</td>\n",
       "      <td>-79.519402</td>\n",
       "      <td>35260829</td>\n",
       "      <td>1</td>\n",
       "      <td>1</td>\n",
       "      <td>1</td>\n",
       "      <td>1</td>\n",
       "      <td>1</td>\n",
       "    </tr>\n",
       "    <tr>\n",
       "      <th>7</th>\n",
       "      <td>-1</td>\n",
       "      <td>3</td>\n",
       "      <td>3</td>\n",
       "      <td>2</td>\n",
       "      <td>-1</td>\n",
       "      <td>3</td>\n",
       "      <td>1</td>\n",
       "      <td>3</td>\n",
       "      <td>52.259201</td>\n",
       "      <td>-113.796997</td>\n",
       "      <td>48080092</td>\n",
       "      <td>1</td>\n",
       "      <td>1</td>\n",
       "      <td>1</td>\n",
       "      <td>1</td>\n",
       "      <td>1</td>\n",
       "    </tr>\n",
       "    <tr>\n",
       "      <th>10</th>\n",
       "      <td>0</td>\n",
       "      <td>4</td>\n",
       "      <td>4</td>\n",
       "      <td>2</td>\n",
       "      <td>-1</td>\n",
       "      <td>4</td>\n",
       "      <td>2</td>\n",
       "      <td>4</td>\n",
       "      <td>48.446701</td>\n",
       "      <td>-123.502998</td>\n",
       "      <td>59170432</td>\n",
       "      <td>3</td>\n",
       "      <td>3</td>\n",
       "      <td>3</td>\n",
       "      <td>1</td>\n",
       "      <td>1</td>\n",
       "    </tr>\n",
       "    <tr>\n",
       "      <th>...</th>\n",
       "      <td>...</td>\n",
       "      <td>...</td>\n",
       "      <td>...</td>\n",
       "      <td>...</td>\n",
       "      <td>...</td>\n",
       "      <td>...</td>\n",
       "      <td>...</td>\n",
       "      <td>...</td>\n",
       "      <td>...</td>\n",
       "      <td>...</td>\n",
       "      <td>...</td>\n",
       "      <td>...</td>\n",
       "      <td>...</td>\n",
       "      <td>...</td>\n",
       "      <td>...</td>\n",
       "      <td>...</td>\n",
       "    </tr>\n",
       "    <tr>\n",
       "      <th>1230523</th>\n",
       "      <td>133</td>\n",
       "      <td>9329</td>\n",
       "      <td>2078</td>\n",
       "      <td>3</td>\n",
       "      <td>-1</td>\n",
       "      <td>484</td>\n",
       "      <td>2</td>\n",
       "      <td>2452</td>\n",
       "      <td>49.210098</td>\n",
       "      <td>-122.962997</td>\n",
       "      <td>59153655</td>\n",
       "      <td>4</td>\n",
       "      <td>3</td>\n",
       "      <td>1</td>\n",
       "      <td>0</td>\n",
       "      <td>0</td>\n",
       "    </tr>\n",
       "    <tr>\n",
       "      <th>1230526</th>\n",
       "      <td>-1</td>\n",
       "      <td>68</td>\n",
       "      <td>19354</td>\n",
       "      <td>4</td>\n",
       "      <td>-1</td>\n",
       "      <td>744</td>\n",
       "      <td>4</td>\n",
       "      <td>3847</td>\n",
       "      <td>49.600101</td>\n",
       "      <td>-97.030296</td>\n",
       "      <td>46020081</td>\n",
       "      <td>1</td>\n",
       "      <td>1</td>\n",
       "      <td>1</td>\n",
       "      <td>1</td>\n",
       "      <td>1</td>\n",
       "    </tr>\n",
       "    <tr>\n",
       "      <th>1230531</th>\n",
       "      <td>-1</td>\n",
       "      <td>26</td>\n",
       "      <td>2371</td>\n",
       "      <td>2</td>\n",
       "      <td>-1</td>\n",
       "      <td>24</td>\n",
       "      <td>4</td>\n",
       "      <td>15994</td>\n",
       "      <td>49.795700</td>\n",
       "      <td>-97.194801</td>\n",
       "      <td>46111190</td>\n",
       "      <td>1</td>\n",
       "      <td>1</td>\n",
       "      <td>1</td>\n",
       "      <td>1</td>\n",
       "      <td>1</td>\n",
       "    </tr>\n",
       "    <tr>\n",
       "      <th>1230532</th>\n",
       "      <td>116</td>\n",
       "      <td>2791</td>\n",
       "      <td>1845</td>\n",
       "      <td>4</td>\n",
       "      <td>-1</td>\n",
       "      <td>234</td>\n",
       "      <td>2</td>\n",
       "      <td>7227</td>\n",
       "      <td>49.259201</td>\n",
       "      <td>-122.737000</td>\n",
       "      <td>59153040</td>\n",
       "      <td>4</td>\n",
       "      <td>4</td>\n",
       "      <td>1</td>\n",
       "      <td>0</td>\n",
       "      <td>1</td>\n",
       "    </tr>\n",
       "    <tr>\n",
       "      <th>1230533</th>\n",
       "      <td>423</td>\n",
       "      <td>3871</td>\n",
       "      <td>578</td>\n",
       "      <td>8</td>\n",
       "      <td>-1</td>\n",
       "      <td>259</td>\n",
       "      <td>2</td>\n",
       "      <td>76674</td>\n",
       "      <td>49.277699</td>\n",
       "      <td>-122.856003</td>\n",
       "      <td>59153962</td>\n",
       "      <td>4</td>\n",
       "      <td>3</td>\n",
       "      <td>3</td>\n",
       "      <td>0</td>\n",
       "      <td>0</td>\n",
       "    </tr>\n",
       "  </tbody>\n",
       "</table>\n",
       "<p>696360 rows × 16 columns</p>\n",
       "</div>"
      ],
      "text/plain": [
       "         SUITE  STREET_NUMBER  STREET_NAME  STREET_TYPE  STREET_DIRECTION  \\\n",
       "0           -1              0            0            0                -1   \n",
       "3           -1              1            1            1                -1   \n",
       "5           -1              2            2            0                -1   \n",
       "7           -1              3            3            2                -1   \n",
       "10           0              4            4            2                -1   \n",
       "...        ...            ...          ...          ...               ...   \n",
       "1230523    133           9329         2078            3                -1   \n",
       "1230526     -1             68        19354            4                -1   \n",
       "1230531     -1             26         2371            2                -1   \n",
       "1230532    116           2791         1845            4                -1   \n",
       "1230533    423           3871          578            8                -1   \n",
       "\n",
       "         CITY  PROVINCE  POSTAL_CODE   LATITUDE   LONGITUDE  \\\n",
       "0           0         0            0  45.332199  -75.777199   \n",
       "3           1         0            1  42.758801  -81.196800   \n",
       "5           2         0            2  43.187401  -79.519402   \n",
       "7           3         1            3  52.259201 -113.796997   \n",
       "10          4         2            4  48.446701 -123.502998   \n",
       "...       ...       ...          ...        ...         ...   \n",
       "1230523   484         2         2452  49.210098 -122.962997   \n",
       "1230526   744         4         3847  49.600101  -97.030296   \n",
       "1230531    24         4        15994  49.795700  -97.194801   \n",
       "1230532   234         2         7227  49.259201 -122.737000   \n",
       "1230533   259         2        76674  49.277699 -122.856003   \n",
       "\n",
       "         DISSEMINATION_AREA  PROPERTY_STYLE  PROPERTY_STYLE_PRED_RF  \\\n",
       "0                  35061294               2                       1   \n",
       "3                  35340052               1                       1   \n",
       "5                  35260829               1                       1   \n",
       "7                  48080092               1                       1   \n",
       "10                 59170432               3                       3   \n",
       "...                     ...             ...                     ...   \n",
       "1230523            59153655               4                       3   \n",
       "1230526            46020081               1                       1   \n",
       "1230531            46111190               1                       1   \n",
       "1230532            59153040               4                       4   \n",
       "1230533            59153962               4                       3   \n",
       "\n",
       "         PROPERTY_STYLE_PRED_KNN  KNN_CORRECT  RF_CORRECT  \n",
       "0                              1            0           0  \n",
       "3                              1            1           1  \n",
       "5                              1            1           1  \n",
       "7                              1            1           1  \n",
       "10                             3            1           1  \n",
       "...                          ...          ...         ...  \n",
       "1230523                        1            0           0  \n",
       "1230526                        1            1           1  \n",
       "1230531                        1            1           1  \n",
       "1230532                        1            0           1  \n",
       "1230533                        3            0           0  \n",
       "\n",
       "[696360 rows x 16 columns]"
      ]
     },
     "execution_count": 61,
     "metadata": {},
     "output_type": "execute_result"
    }
   ],
   "source": [
    "rlp_label_model['PROPERTY_STYLE_PRED_RF'] = rf_clf.predict(X_rlp_label)\n",
    "rlp_label_model['PROPERTY_STYLE_PRED_KNN'] = knn.predict(X_rlp_label)"
   ]
  },
  {
   "cell_type": "code",
   "execution_count": 62,
   "id": "c4562bd3",
   "metadata": {},
   "outputs": [],
   "source": [
    "rlp_label_model['KNN_CORRECT'] = np.where(rlp_label_model['PROPERTY_STYLE_PRED_KNN']==rlp_label_model['PROPERTY_STYLE'], 1,0)\n",
    "rlp_label_model['RF_CORRECT'] = np.where(rlp_label_model['PROPERTY_STYLE_PRED_RF']==rlp_label_model['PROPERTY_STYLE'], 1,0)"
   ]
  },
  {
   "cell_type": "code",
   "execution_count": 65,
   "id": "51389845",
   "metadata": {},
   "outputs": [
    {
     "data": {
      "text/html": [
       "<div>\n",
       "<style scoped>\n",
       "    .dataframe tbody tr th:only-of-type {\n",
       "        vertical-align: middle;\n",
       "    }\n",
       "\n",
       "    .dataframe tbody tr th {\n",
       "        vertical-align: top;\n",
       "    }\n",
       "\n",
       "    .dataframe thead tr th {\n",
       "        text-align: left;\n",
       "    }\n",
       "\n",
       "    .dataframe thead tr:last-of-type th {\n",
       "        text-align: right;\n",
       "    }\n",
       "</style>\n",
       "<table border=\"1\" class=\"dataframe\">\n",
       "  <thead>\n",
       "    <tr>\n",
       "      <th></th>\n",
       "      <th>sum</th>\n",
       "      <th>count</th>\n",
       "    </tr>\n",
       "    <tr>\n",
       "      <th></th>\n",
       "      <th>KNN_CORRECT</th>\n",
       "      <th>KNN_CORRECT</th>\n",
       "    </tr>\n",
       "    <tr>\n",
       "      <th>PROPERTY_STYLE</th>\n",
       "      <th></th>\n",
       "      <th></th>\n",
       "    </tr>\n",
       "  </thead>\n",
       "  <tbody>\n",
       "    <tr>\n",
       "      <th>1</th>\n",
       "      <td>469245</td>\n",
       "      <td>511076</td>\n",
       "    </tr>\n",
       "    <tr>\n",
       "      <th>2</th>\n",
       "      <td>1494</td>\n",
       "      <td>27778</td>\n",
       "    </tr>\n",
       "    <tr>\n",
       "      <th>3</th>\n",
       "      <td>30557</td>\n",
       "      <td>94345</td>\n",
       "    </tr>\n",
       "    <tr>\n",
       "      <th>4</th>\n",
       "      <td>4239</td>\n",
       "      <td>56801</td>\n",
       "    </tr>\n",
       "    <tr>\n",
       "      <th>5</th>\n",
       "      <td>21</td>\n",
       "      <td>3044</td>\n",
       "    </tr>\n",
       "    <tr>\n",
       "      <th>6</th>\n",
       "      <td>26</td>\n",
       "      <td>3307</td>\n",
       "    </tr>\n",
       "    <tr>\n",
       "      <th>7</th>\n",
       "      <td>0</td>\n",
       "      <td>9</td>\n",
       "    </tr>\n",
       "  </tbody>\n",
       "</table>\n",
       "</div>"
      ],
      "text/plain": [
       "                       sum       count\n",
       "               KNN_CORRECT KNN_CORRECT\n",
       "PROPERTY_STYLE                        \n",
       "1                   469245      511076\n",
       "2                     1494       27778\n",
       "3                    30557       94345\n",
       "4                     4239       56801\n",
       "5                       21        3044\n",
       "6                       26        3307\n",
       "7                        0           9"
      ]
     },
     "execution_count": 65,
     "metadata": {},
     "output_type": "execute_result"
    }
   ],
   "source": [
    "# KNN\n",
    "rlp_label_model.pivot_table(index =['PROPERTY_STYLE'],\n",
    "                       values =['KNN_CORRECT'],\n",
    "                       aggfunc =['sum', 'count'])"
   ]
  },
  {
   "cell_type": "code",
   "execution_count": 66,
   "id": "77293b0f",
   "metadata": {
    "scrolled": true
   },
   "outputs": [
    {
     "data": {
      "text/html": [
       "<div>\n",
       "<style scoped>\n",
       "    .dataframe tbody tr th:only-of-type {\n",
       "        vertical-align: middle;\n",
       "    }\n",
       "\n",
       "    .dataframe tbody tr th {\n",
       "        vertical-align: top;\n",
       "    }\n",
       "\n",
       "    .dataframe thead tr th {\n",
       "        text-align: left;\n",
       "    }\n",
       "\n",
       "    .dataframe thead tr:last-of-type th {\n",
       "        text-align: right;\n",
       "    }\n",
       "</style>\n",
       "<table border=\"1\" class=\"dataframe\">\n",
       "  <thead>\n",
       "    <tr>\n",
       "      <th></th>\n",
       "      <th>sum</th>\n",
       "      <th>count</th>\n",
       "    </tr>\n",
       "    <tr>\n",
       "      <th></th>\n",
       "      <th>RF_CORRECT</th>\n",
       "      <th>RF_CORRECT</th>\n",
       "    </tr>\n",
       "    <tr>\n",
       "      <th>PROPERTY_STYLE</th>\n",
       "      <th></th>\n",
       "      <th></th>\n",
       "    </tr>\n",
       "  </thead>\n",
       "  <tbody>\n",
       "    <tr>\n",
       "      <th>1</th>\n",
       "      <td>498695</td>\n",
       "      <td>511076</td>\n",
       "    </tr>\n",
       "    <tr>\n",
       "      <th>2</th>\n",
       "      <td>0</td>\n",
       "      <td>27778</td>\n",
       "    </tr>\n",
       "    <tr>\n",
       "      <th>3</th>\n",
       "      <td>75300</td>\n",
       "      <td>94345</td>\n",
       "    </tr>\n",
       "    <tr>\n",
       "      <th>4</th>\n",
       "      <td>10096</td>\n",
       "      <td>56801</td>\n",
       "    </tr>\n",
       "    <tr>\n",
       "      <th>5</th>\n",
       "      <td>17</td>\n",
       "      <td>3044</td>\n",
       "    </tr>\n",
       "    <tr>\n",
       "      <th>6</th>\n",
       "      <td>0</td>\n",
       "      <td>3307</td>\n",
       "    </tr>\n",
       "    <tr>\n",
       "      <th>7</th>\n",
       "      <td>0</td>\n",
       "      <td>9</td>\n",
       "    </tr>\n",
       "  </tbody>\n",
       "</table>\n",
       "</div>"
      ],
      "text/plain": [
       "                      sum      count\n",
       "               RF_CORRECT RF_CORRECT\n",
       "PROPERTY_STYLE                      \n",
       "1                  498695     511076\n",
       "2                       0      27778\n",
       "3                   75300      94345\n",
       "4                   10096      56801\n",
       "5                      17       3044\n",
       "6                       0       3307\n",
       "7                       0          9"
      ]
     },
     "execution_count": 66,
     "metadata": {},
     "output_type": "execute_result"
    }
   ],
   "source": [
    "# RF\n",
    "rlp_label_model.pivot_table(index =['PROPERTY_STYLE'],\n",
    "                       values =['RF_CORRECT'],\n",
    "                       aggfunc =['sum', 'count'])"
   ]
  },
  {
   "cell_type": "markdown",
   "id": "ac6b7f5a",
   "metadata": {},
   "source": [
    "### Accuracy By Province/Ciy"
   ]
  },
  {
   "cell_type": "code",
   "execution_count": 60,
   "id": "5eb38c12",
   "metadata": {
    "scrolled": true
   },
   "outputs": [],
   "source": [
    "rlp_label['PROPERTY_STYLE_PRED_RF'] = rf_clf.predict(X_rlp_label)\n",
    "rlp_label['PROPERTY_STYLE_PRED_KNN'] = knn.predict(X_rlp_label)"
   ]
  },
  {
   "cell_type": "code",
   "execution_count": 57,
   "id": "4351010f",
   "metadata": {},
   "outputs": [],
   "source": [
    "rlp_label['PROPERTY_STYLE_INT'] = rlp_label['PROPERTY_STYLE'].apply(lambda x: int(x[0]))\n",
    "rlp_label['KNN_CORRECT'] = np.where(rlp_label['PROPERTY_STYLE_PRED_KNN']==rlp_label['PROPERTY_STYLE_INT'], 1,0)\n",
    "rlp_label['RF_CORRECT'] = np.where(rlp_label['PROPERTY_STYLE_PRED_RF']==rlp_label['PROPERTY_STYLE_INT'], 1,0)"
   ]
  },
  {
   "cell_type": "code",
   "execution_count": 59,
   "id": "008b1fea",
   "metadata": {},
   "outputs": [],
   "source": [
    "piv = rlp_label.pivot_table(index =['PROVINCE', 'CITY'],\n",
    "                       values =['KNN_CORRECT'],\n",
    "                       aggfunc = ['sum', 'count'])\n",
    "\n",
    "piv.to_csv('rlp_label_accuracy_bycity.csv')"
   ]
  },
  {
   "cell_type": "markdown",
   "id": "705dc5e9",
   "metadata": {},
   "source": [
    "# Use model on rlp_nolabel"
   ]
  },
  {
   "cell_type": "code",
   "execution_count": 34,
   "id": "f0d69426",
   "metadata": {},
   "outputs": [],
   "source": [
    "rlp_nolabel['PROPERTY_STYLE_PRED_RF'] = rf_clf.predict(rlp_nolabel_model)\n",
    "rlp_nolabel['PROPERTY_STYLE_PRED_KNN'] = knn.predict(rlp_nolabel_model)"
   ]
  },
  {
   "cell_type": "code",
   "execution_count": 72,
   "id": "fb5cd119",
   "metadata": {
    "scrolled": false
   },
   "outputs": [
    {
     "data": {
      "text/html": [
       "<div>\n",
       "<style scoped>\n",
       "    .dataframe tbody tr th:only-of-type {\n",
       "        vertical-align: middle;\n",
       "    }\n",
       "\n",
       "    .dataframe tbody tr th {\n",
       "        vertical-align: top;\n",
       "    }\n",
       "\n",
       "    .dataframe thead tr th {\n",
       "        text-align: left;\n",
       "    }\n",
       "\n",
       "    .dataframe thead tr:last-of-type th {\n",
       "        text-align: right;\n",
       "    }\n",
       "</style>\n",
       "<table border=\"1\" class=\"dataframe\">\n",
       "  <thead>\n",
       "    <tr>\n",
       "      <th></th>\n",
       "      <th>count</th>\n",
       "    </tr>\n",
       "    <tr>\n",
       "      <th></th>\n",
       "      <th>FULL_ADDRESS</th>\n",
       "    </tr>\n",
       "    <tr>\n",
       "      <th>PROPERTY_STYLE_PRED_KNN</th>\n",
       "      <th></th>\n",
       "    </tr>\n",
       "  </thead>\n",
       "  <tbody>\n",
       "    <tr>\n",
       "      <th>1</th>\n",
       "      <td>453644</td>\n",
       "    </tr>\n",
       "    <tr>\n",
       "      <th>2</th>\n",
       "      <td>10382</td>\n",
       "    </tr>\n",
       "    <tr>\n",
       "      <th>3</th>\n",
       "      <td>47734</td>\n",
       "    </tr>\n",
       "    <tr>\n",
       "      <th>4</th>\n",
       "      <td>21572</td>\n",
       "    </tr>\n",
       "    <tr>\n",
       "      <th>5</th>\n",
       "      <td>332</td>\n",
       "    </tr>\n",
       "    <tr>\n",
       "      <th>6</th>\n",
       "      <td>505</td>\n",
       "    </tr>\n",
       "    <tr>\n",
       "      <th>7</th>\n",
       "      <td>4</td>\n",
       "    </tr>\n",
       "  </tbody>\n",
       "</table>\n",
       "</div>"
      ],
      "text/plain": [
       "                               count\n",
       "                        FULL_ADDRESS\n",
       "PROPERTY_STYLE_PRED_KNN             \n",
       "1                             453644\n",
       "2                              10382\n",
       "3                              47734\n",
       "4                              21572\n",
       "5                                332\n",
       "6                                505\n",
       "7                                  4"
      ]
     },
     "execution_count": 72,
     "metadata": {},
     "output_type": "execute_result"
    }
   ],
   "source": [
    "# KNN Counts\n",
    "rlp_nolabel.pivot_table(index =['PROPERTY_STYLE_PRED_KNN'],\n",
    "                       values =['FULL_ADDRESS'],\n",
    "                       aggfunc =['count'])"
   ]
  },
  {
   "cell_type": "code",
   "execution_count": 73,
   "id": "0b7bd803",
   "metadata": {},
   "outputs": [
    {
     "data": {
      "text/html": [
       "<div>\n",
       "<style scoped>\n",
       "    .dataframe tbody tr th:only-of-type {\n",
       "        vertical-align: middle;\n",
       "    }\n",
       "\n",
       "    .dataframe tbody tr th {\n",
       "        vertical-align: top;\n",
       "    }\n",
       "\n",
       "    .dataframe thead tr th {\n",
       "        text-align: left;\n",
       "    }\n",
       "\n",
       "    .dataframe thead tr:last-of-type th {\n",
       "        text-align: right;\n",
       "    }\n",
       "</style>\n",
       "<table border=\"1\" class=\"dataframe\">\n",
       "  <thead>\n",
       "    <tr>\n",
       "      <th></th>\n",
       "      <th>count</th>\n",
       "    </tr>\n",
       "    <tr>\n",
       "      <th></th>\n",
       "      <th>FULL_ADDRESS</th>\n",
       "    </tr>\n",
       "    <tr>\n",
       "      <th>PROPERTY_STYLE_PRED_RF</th>\n",
       "      <th></th>\n",
       "    </tr>\n",
       "  </thead>\n",
       "  <tbody>\n",
       "    <tr>\n",
       "      <th>1</th>\n",
       "      <td>432651</td>\n",
       "    </tr>\n",
       "    <tr>\n",
       "      <th>3</th>\n",
       "      <td>82491</td>\n",
       "    </tr>\n",
       "    <tr>\n",
       "      <th>4</th>\n",
       "      <td>18887</td>\n",
       "    </tr>\n",
       "    <tr>\n",
       "      <th>5</th>\n",
       "      <td>144</td>\n",
       "    </tr>\n",
       "  </tbody>\n",
       "</table>\n",
       "</div>"
      ],
      "text/plain": [
       "                              count\n",
       "                       FULL_ADDRESS\n",
       "PROPERTY_STYLE_PRED_RF             \n",
       "1                            432651\n",
       "3                             82491\n",
       "4                             18887\n",
       "5                               144"
      ]
     },
     "execution_count": 73,
     "metadata": {},
     "output_type": "execute_result"
    }
   ],
   "source": [
    "# RF Counts\n",
    "rlp_nolabel.pivot_table(index =['PROPERTY_STYLE_PRED_RF'],\n",
    "                       values =['FULL_ADDRESS'],\n",
    "                       aggfunc =['count'])"
   ]
  },
  {
   "cell_type": "code",
   "execution_count": 37,
   "id": "d2a1a38c",
   "metadata": {},
   "outputs": [],
   "source": [
    "# Predicted Property Style by City\n",
    "pred_count_bycity = rlp_nolabel[['CITY', 'PROPERTY_STYLE_PRED_KNN']].groupby('CITY').nunique()\n",
    "pred_count_bycity.reset_index(inplace = True)\n",
    "pred_count_bycity.sort_values('PROPERTY_STYLE_PRED_KNN').to_csv('propertystyle_count_bycity.csv')"
   ]
  },
  {
   "cell_type": "code",
   "execution_count": 74,
   "id": "7b198d73",
   "metadata": {
    "scrolled": false
   },
   "outputs": [
    {
     "data": {
      "text/html": [
       "<div>\n",
       "<style scoped>\n",
       "    .dataframe tbody tr th:only-of-type {\n",
       "        vertical-align: middle;\n",
       "    }\n",
       "\n",
       "    .dataframe tbody tr th {\n",
       "        vertical-align: top;\n",
       "    }\n",
       "\n",
       "    .dataframe thead th {\n",
       "        text-align: right;\n",
       "    }\n",
       "</style>\n",
       "<table border=\"1\" class=\"dataframe\">\n",
       "  <thead>\n",
       "    <tr style=\"text-align: right;\">\n",
       "      <th></th>\n",
       "      <th>FULL_ADDRESS</th>\n",
       "    </tr>\n",
       "    <tr>\n",
       "      <th>PROPERTY_STYLE_PRED_KNN</th>\n",
       "      <th></th>\n",
       "    </tr>\n",
       "  </thead>\n",
       "  <tbody>\n",
       "    <tr>\n",
       "      <th>1</th>\n",
       "      <td>12047</td>\n",
       "    </tr>\n",
       "    <tr>\n",
       "      <th>2</th>\n",
       "      <td>1531</td>\n",
       "    </tr>\n",
       "    <tr>\n",
       "      <th>3</th>\n",
       "      <td>12625</td>\n",
       "    </tr>\n",
       "    <tr>\n",
       "      <th>4</th>\n",
       "      <td>955</td>\n",
       "    </tr>\n",
       "    <tr>\n",
       "      <th>7</th>\n",
       "      <td>1</td>\n",
       "    </tr>\n",
       "  </tbody>\n",
       "</table>\n",
       "</div>"
      ],
      "text/plain": [
       "                         FULL_ADDRESS\n",
       "PROPERTY_STYLE_PRED_KNN              \n",
       "1                               12047\n",
       "2                                1531\n",
       "3                               12625\n",
       "4                                 955\n",
       "7                                   1"
      ]
     },
     "execution_count": 74,
     "metadata": {},
     "output_type": "execute_result"
    }
   ],
   "source": [
    "# Toronto counts\n",
    "rlp_nolabel[(rlp_nolabel['CITY']=='TORONTO')][['PROPERTY_STYLE_PRED_KNN', 'FULL_ADDRESS']].groupby('PROPERTY_STYLE_PRED_KNN').count()"
   ]
  },
  {
   "cell_type": "markdown",
   "id": "5c793af8",
   "metadata": {},
   "source": [
    "#  Pull Sample of records to check"
   ]
  },
  {
   "cell_type": "code",
   "execution_count": 154,
   "id": "c3be63c8",
   "metadata": {},
   "outputs": [],
   "source": [
    "# Take sample of these records and see which one is correct\n",
    "n_samples = [[1,44], [2,6], [3,46], [4,4], [7,1]]\n",
    "check_samples = pd.DataFrame()\n",
    "\n",
    "for i in n_samples:\n",
    "    prop_style = i[0]\n",
    "    n = i[1]\n",
    "    \n",
    "    samples = rlp_nolabel[(rlp_nolabel['PROPERTY_STYLE_PRED_KNN']==prop_style) & (rlp_nolabel['CITY']=='TORONTO')].sample(n=n)\n",
    "    check_samples = pd.concat([check_samples, samples])"
   ]
  },
  {
   "cell_type": "code",
   "execution_count": 53,
   "id": "3a1a645b",
   "metadata": {},
   "outputs": [],
   "source": [
    "# Need 6 more records\n",
    "n_samples = [[1,2], [2,1], [3,2], [4,1], [7,0]]\n",
    "check_samples = pd.DataFrame()\n",
    "\n",
    "for i in n_samples:\n",
    "    prop_style = i[0]\n",
    "    n = i[1]\n",
    "    \n",
    "    samples = rlp_nolabel[(rlp_nolabel['PROPERTY_STYLE_PRED_KNN']==prop_style) & (rlp_nolabel['CITY']=='TORONTO')].sample(n=n)\n",
    "    check_samples = pd.concat([check_samples, samples])"
   ]
  },
  {
   "cell_type": "code",
   "execution_count": 155,
   "id": "00e6d64a",
   "metadata": {},
   "outputs": [],
   "source": [
    "check_samples.to_csv('check_samples.csv')"
   ]
  }
 ],
 "metadata": {
  "kernelspec": {
   "display_name": "Python 3 (ipykernel)",
   "language": "python",
   "name": "python3"
  },
  "language_info": {
   "codemirror_mode": {
    "name": "ipython",
    "version": 3
   },
   "file_extension": ".py",
   "mimetype": "text/x-python",
   "name": "python",
   "nbconvert_exporter": "python",
   "pygments_lexer": "ipython3",
   "version": "3.9.12"
  }
 },
 "nbformat": 4,
 "nbformat_minor": 5
}
